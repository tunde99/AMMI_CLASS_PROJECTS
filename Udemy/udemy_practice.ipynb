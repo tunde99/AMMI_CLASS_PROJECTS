{
 "cells": [
  {
   "cell_type": "markdown",
   "metadata": {},
   "source": [
    "# Section 7 \n",
    "## Strings: Methods"
   ]
  },
  {
   "cell_type": "code",
   "execution_count": 1,
   "metadata": {},
   "outputs": [],
   "source": [
    "browser = \"Google Chrome\""
   ]
  },
  {
   "cell_type": "code",
   "execution_count": 2,
   "metadata": {},
   "outputs": [
    {
     "name": "stdout",
     "output_type": "stream",
     "text": [
      "7\n",
      "7\n",
      "-1\n",
      "7\n"
     ]
    }
   ],
   "source": [
    "# find()\n",
    "print(browser.find(\"C\"))\n",
    "print(browser.find(\"Ch\"))\n",
    "print(browser.find(\"a\"))\n",
    "print(browser.find(\"Chr\"))"
   ]
  },
  {
   "cell_type": "code",
   "execution_count": 3,
   "metadata": {
    "scrolled": true
   },
   "outputs": [
    {
     "ename": "ValueError",
     "evalue": "substring not found",
     "output_type": "error",
     "traceback": [
      "\u001b[0;31m---------------------------------------------------------------------------\u001b[0m",
      "\u001b[0;31mValueError\u001b[0m                                Traceback (most recent call last)",
      "\u001b[0;32m<ipython-input-3-ae995a3e3f4f>\u001b[0m in \u001b[0;36m<module>\u001b[0;34m()\u001b[0m\n\u001b[0;32m----> 1\u001b[0;31m \u001b[0mprint\u001b[0m\u001b[0;34m(\u001b[0m\u001b[0mbrowser\u001b[0m\u001b[0;34m.\u001b[0m\u001b[0mindex\u001b[0m\u001b[0;34m(\u001b[0m\u001b[0;34m\"Z\"\u001b[0m\u001b[0;34m)\u001b[0m\u001b[0;34m)\u001b[0m\u001b[0;34m\u001b[0m\u001b[0;34m\u001b[0m\u001b[0m\n\u001b[0m",
      "\u001b[0;31mValueError\u001b[0m: substring not found"
     ]
    }
   ],
   "source": [
    "print(browser.index(\"Z\"))"
   ]
  },
  {
   "cell_type": "code",
   "execution_count": null,
   "metadata": {},
   "outputs": [],
   "source": [
    "print(\"G\" in browser)"
   ]
  },
  {
   "cell_type": "code",
   "execution_count": null,
   "metadata": {},
   "outputs": [],
   "source": [
    "word = 'geeks for geeks'"
   ]
  },
  {
   "cell_type": "code",
   "execution_count": null,
   "metadata": {},
   "outputs": [],
   "source": [
    "print(word.rfind(\"g\", 2, 16))"
   ]
  },
  {
   "cell_type": "code",
   "execution_count": null,
   "metadata": {},
   "outputs": [],
   "source": [
    "# rfind()\n",
    "course = \"Programming is interesting\"\n",
    "\n",
    "print(course.rfind(\"i\"))\n",
    "\n",
    "print(course.rfind(\"i\", 2, 12))\n",
    "\n",
    "print(course.rfind(\"o\", 4))"
   ]
  },
  {
   "cell_type": "code",
   "execution_count": 4,
   "metadata": {},
   "outputs": [
    {
     "name": "stdout",
     "output_type": "stream",
     "text": [
      "True\n"
     ]
    }
   ],
   "source": [
    "print(browser.startswith(\"G\"))"
   ]
  },
  {
   "cell_type": "code",
   "execution_count": 7,
   "metadata": {},
   "outputs": [
    {
     "name": "stdout",
     "output_type": "stream",
     "text": [
      "2\n"
     ]
    }
   ],
   "source": [
    "# count()\n",
    "browser = \"queueing\"\n",
    "print(browser.count(\"e\"))"
   ]
  },
  {
   "cell_type": "code",
   "execution_count": 22,
   "metadata": {},
   "outputs": [],
   "source": [
    "# Define a vowel_count function that accepts a string argument.\n",
    "# The function should return the count of vowels in the string.\n",
    "# The 5 vowels are \"a\", \"e\", \"i\", \"o\", and \"u\".\n",
    "# You can assume the string will be in all lowercase.\n",
    "# \n",
    "def vowel_count(str):\n",
    "    return str.count(\"a\") + str.count(\"e\") + str.count(\"i\") + str.count(\"o\") + str.count(\"u\")\n",
    "    \n",
    "# EXAMPLES:\n",
    "# vowel_count(\"estate\")        => 3\n",
    "# vowel_count(\"helicopter\")    => 4\n",
    "# vowel_count(\"ssh\")           => 0"
   ]
  },
  {
   "cell_type": "code",
   "execution_count": 23,
   "metadata": {},
   "outputs": [
    {
     "data": {
      "text/plain": [
       "3"
      ]
     },
     "execution_count": 23,
     "metadata": {},
     "output_type": "execute_result"
    }
   ],
   "source": [
    "vowel_count(\"estate\")"
   ]
  },
  {
   "cell_type": "code",
   "execution_count": 24,
   "metadata": {},
   "outputs": [
    {
     "data": {
      "text/plain": [
       "4"
      ]
     },
     "execution_count": 24,
     "metadata": {},
     "output_type": "execute_result"
    }
   ],
   "source": [
    "vowel_count(\"helicopter\")"
   ]
  },
  {
   "cell_type": "code",
   "execution_count": 28,
   "metadata": {},
   "outputs": [],
   "source": [
    "# Define a find_my_letter function that accepts two arguments: a string and a character\n",
    "# The function should return the first index position of the character in the string\n",
    "# The function should return a -1 if the character does not exist in the string\n",
    "\n",
    "def find_my_letter(a,b):\n",
    "    return a.find(b)\n",
    "    \n",
    "# EXAMPLES:\n",
    "# find_my_letter(\"dangerous\", \"a\")    => 1\n",
    "# find_my_letter(\"bazooka\", \"z\")      => 2\n",
    "# find_my_letter(\"lollipop\", \"z\")     => -1"
   ]
  },
  {
   "cell_type": "code",
   "execution_count": 29,
   "metadata": {},
   "outputs": [
    {
     "data": {
      "text/plain": [
       "1"
      ]
     },
     "execution_count": 29,
     "metadata": {},
     "output_type": "execute_result"
    }
   ],
   "source": [
    "find_my_letter(\"dangerous\", \"a\")"
   ]
  },
  {
   "cell_type": "code",
   "execution_count": 30,
   "metadata": {},
   "outputs": [
    {
     "data": {
      "text/plain": [
       "2"
      ]
     },
     "execution_count": 30,
     "metadata": {},
     "output_type": "execute_result"
    }
   ],
   "source": [
    "find_my_letter(\"bazooka\", \"z\") "
   ]
  },
  {
   "cell_type": "code",
   "execution_count": 32,
   "metadata": {},
   "outputs": [
    {
     "data": {
      "text/plain": [
       "-1"
      ]
     },
     "execution_count": 32,
     "metadata": {},
     "output_type": "execute_result"
    }
   ],
   "source": [
    "find_my_letter(\"lollipop\", \"z\")"
   ]
  },
  {
   "cell_type": "markdown",
   "metadata": {},
   "source": [
    "#### Palindrome"
   ]
  },
  {
   "cell_type": "code",
   "execution_count": 42,
   "metadata": {},
   "outputs": [],
   "source": [
    "word1 = \"madam\"\n",
    "word2 = \"helicopter\""
   ]
  },
  {
   "cell_type": "code",
   "execution_count": 44,
   "metadata": {},
   "outputs": [
    {
     "name": "stdout",
     "output_type": "stream",
     "text": [
      "True\n",
      "False\n"
     ]
    }
   ],
   "source": [
    "print(word1[::] == word1[::-1])\n",
    "print(word2[::] == word2[::-1])"
   ]
  },
  {
   "cell_type": "code",
   "execution_count": 45,
   "metadata": {},
   "outputs": [
    {
     "name": "stdout",
     "output_type": "stream",
     "text": [
      "madam\n",
      "retpocileh\n"
     ]
    }
   ],
   "source": [
    "print(word1[::-1])\n",
    "print(word2[::-1])"
   ]
  },
  {
   "cell_type": "code",
   "execution_count": 59,
   "metadata": {},
   "outputs": [
    {
     "name": "stdout",
     "output_type": "stream",
     "text": [
      "Helicopter\n",
      "HELICOPTER\n",
      "Programming Is Interesting\n",
      "mADAm\n",
      "Programming Is Interesting\n"
     ]
    }
   ],
   "source": [
    "word3 = \"MadaM\"\n",
    "word4 = \"helicopter\"\n",
    "word5 = \"programming is interesting\"\n",
    "word6 = \"PROGRAMMING IS INTERESTING\"\n",
    "print(word4.capitalize()) # Capitalise only first letter of the sentence (sentence case)\n",
    "print(word4.upper()) # All letters in capital\n",
    "print(word5.title()) # First letter of every space-separated word\n",
    "print(word3.swapcase()) # changes small letters to capital and vice versa\n",
    "print(word6.lower().title()) # method chain: converts first to lower, then title case\n"
   ]
  },
  {
   "cell_type": "markdown",
   "metadata": {},
   "source": [
    "### More strings methods"
   ]
  },
  {
   "cell_type": "code",
   "execution_count": 69,
   "metadata": {},
   "outputs": [
    {
     "name": "stdout",
     "output_type": "stream",
     "text": [
      "13\n",
      "tuna\n",
      "tuna\n"
     ]
    }
   ],
   "source": [
    "# lstrip() removes left spaces, rstrip() removes right spaces, strp() removes all spaces\n",
    "empty_space = \"    tuna     \"\n",
    "print(len(empty_space))\n",
    "print((empty_space.lstrip().rstrip())) # removes left and right space\n",
    "print(empty_space.strip()) # same as previous method"
   ]
  },
  {
   "cell_type": "code",
   "execution_count": 70,
   "metadata": {},
   "outputs": [
    {
     "name": "stdout",
     "output_type": "stream",
     "text": [
      "555-666-777-888\n"
     ]
    }
   ],
   "source": [
    "# find and replace method\n",
    "phone_num = \"555 666 777 888\"\n",
    "print(phone_num.replace(\" \", \"-\"))"
   ]
  },
  {
   "cell_type": "code",
   "execution_count": 73,
   "metadata": {},
   "outputs": [],
   "source": [
    "# Define a fancy_cleanup function that accepts a single string argument\n",
    "# The function should clean up the whitespace on both sides of the\n",
    "# argument. It should also replace every occurrence of the letter \"g\" with the\n",
    "# letter \"z\" and every occurence of a space with an exclamation point (!).\n",
    "#\n",
    "def fancy_cleanup(str):\n",
    "    return str.strip().replace(\"g\", \"z\").replace(\" \", \"!\")\n",
    "    \n",
    "# fancy_cleanup(\"       geronimo crikey  \")   => \"zeronimo!crikey\"\n",
    "# fancy_cleanup(\"       nonsense  \")          => \"nonsense\"\n",
    "# fancy_cleanup(\"grade\")                      => \"zrade\""
   ]
  },
  {
   "cell_type": "code",
   "execution_count": 77,
   "metadata": {},
   "outputs": [
    {
     "data": {
      "text/plain": [
       "'zeronimo!crikey'"
      ]
     },
     "execution_count": 77,
     "metadata": {},
     "output_type": "execute_result"
    }
   ],
   "source": [
    "fancy_cleanup(\"       geronimo crikey  \")"
   ]
  },
  {
   "cell_type": "code",
   "execution_count": 78,
   "metadata": {},
   "outputs": [
    {
     "data": {
      "text/plain": [
       "'nonsense'"
      ]
     },
     "execution_count": 78,
     "metadata": {},
     "output_type": "execute_result"
    }
   ],
   "source": [
    "fancy_cleanup(\"       nonsense  \") "
   ]
  },
  {
   "cell_type": "code",
   "execution_count": 80,
   "metadata": {},
   "outputs": [
    {
     "data": {
      "text/plain": [
       "'zrade'"
      ]
     },
     "execution_count": 80,
     "metadata": {},
     "output_type": "execute_result"
    }
   ],
   "source": [
    "fancy_cleanup(\"grade\")"
   ]
  },
  {
   "cell_type": "markdown",
   "metadata": {},
   "source": [
    "# Control flow"
   ]
  },
  {
   "cell_type": "code",
   "execution_count": 1,
   "metadata": {},
   "outputs": [],
   "source": [
    "# Define a even_or_odd function that accepts a single integer.\n",
    "# If the integer is even, the function should return the string “even”.\n",
    "# If the integer is odd, the function should return the string “odd”.\n",
    "\n",
    "# Method 1\n",
    "def even_or_odd(num):\n",
    "    if num % 2 == 0:\n",
    "        return \"even\"\n",
    "    return \"odd\"\n",
    "\n",
    "# # Method 2\n",
    "# def even_or_odd(num):\n",
    "#     return \"even\" if num % 2 == 0 else \"odd\"\n",
    "    \n",
    "# even_or_odd(2)    => \"even\"\n",
    "# even_or_odd(0)    => \"even\"\n",
    "# even_or_odd(13)   => \"odd\"\n",
    "# even_or_odd(9)    => \"odd\""
   ]
  },
  {
   "cell_type": "code",
   "execution_count": 2,
   "metadata": {},
   "outputs": [
    {
     "data": {
      "text/plain": [
       "'even'"
      ]
     },
     "execution_count": 2,
     "metadata": {},
     "output_type": "execute_result"
    }
   ],
   "source": [
    "even_or_odd(2)    #=> \"even\""
   ]
  },
  {
   "cell_type": "code",
   "execution_count": 4,
   "metadata": {},
   "outputs": [
    {
     "data": {
      "text/plain": [
       "'even'"
      ]
     },
     "execution_count": 4,
     "metadata": {},
     "output_type": "execute_result"
    }
   ],
   "source": [
    "even_or_odd(0)    #=> \"even\""
   ]
  },
  {
   "cell_type": "code",
   "execution_count": 5,
   "metadata": {},
   "outputs": [
    {
     "data": {
      "text/plain": [
       "'odd'"
      ]
     },
     "execution_count": 5,
     "metadata": {},
     "output_type": "execute_result"
    }
   ],
   "source": [
    "even_or_odd(13)   #=> \"odd\""
   ]
  },
  {
   "cell_type": "code",
   "execution_count": 6,
   "metadata": {},
   "outputs": [
    {
     "data": {
      "text/plain": [
       "'odd'"
      ]
     },
     "execution_count": 6,
     "metadata": {},
     "output_type": "execute_result"
    }
   ],
   "source": [
    "even_or_odd(9)   # => \"odd\""
   ]
  },
  {
   "cell_type": "code",
   "execution_count": 12,
   "metadata": {},
   "outputs": [],
   "source": [
    "# prime number\n",
    "def check_prime(num):\n",
    "    prime = True # assume the test number is prime\n",
    "    for i in range(2, num): # this checks all numbers between 2 and the number exclusively\n",
    "        if (num % i) == 0: # if any of these numbers are divisible by 2, \n",
    "            prime = False # then the test number is not prime\n",
    "        return prime"
   ]
  },
  {
   "cell_type": "code",
   "execution_count": 17,
   "metadata": {},
   "outputs": [
    {
     "data": {
      "text/plain": [
       "False"
      ]
     },
     "execution_count": 17,
     "metadata": {},
     "output_type": "execute_result"
    }
   ],
   "source": [
    "check_prime(8)"
   ]
  },
  {
   "cell_type": "code",
   "execution_count": 134,
   "metadata": {},
   "outputs": [],
   "source": [
    "'''\n",
    "Note:\n",
    "    if (0): => Falsy\n",
    "    if (any digit): => Truthy\n",
    "    if (empty string): => Falsy \n",
    "    if (any string): => Truthy\n",
    "'''\n",
    "# Define a truthy_or_falsy function that accepts a single argument.\n",
    "# The function should return a string that reads \"The value _____ is ______\" \n",
    "# where the first space is the argument and the second space \n",
    "# is either 'truthy' or 'falsy'. See the sample invocations below.\n",
    "# \n",
    "def truthy_or_falsy(str1):\n",
    "    if bool(str1):\n",
    "        return f\"The value {str1} is truthy\"\n",
    "    return f\"The value {str1} is falsy\"  \n",
    "    \n",
    "       \n",
    "# truthy_or_falsy(0)        => \"The value 0 is falsy\"\n",
    "# truthy_or_falsy(5)        => \"The value 5 is truthy\"\n",
    "# truthy_or_falsy(\"Hello\")  => \"The value Hello is truthy\"\n",
    "# truthy_or_falsy(\"\")       => \"The value  is falsy\"\n"
   ]
  },
  {
   "cell_type": "code",
   "execution_count": 135,
   "metadata": {},
   "outputs": [
    {
     "data": {
      "text/plain": [
       "'The value 0 is falsy'"
      ]
     },
     "execution_count": 135,
     "metadata": {},
     "output_type": "execute_result"
    }
   ],
   "source": [
    "truthy_or_falsy(0)"
   ]
  },
  {
   "cell_type": "code",
   "execution_count": 136,
   "metadata": {},
   "outputs": [
    {
     "data": {
      "text/plain": [
       "'The value 5 is truthy'"
      ]
     },
     "execution_count": 136,
     "metadata": {},
     "output_type": "execute_result"
    }
   ],
   "source": [
    "truthy_or_falsy(5)"
   ]
  },
  {
   "cell_type": "code",
   "execution_count": 137,
   "metadata": {},
   "outputs": [
    {
     "data": {
      "text/plain": [
       "'The value Hello is truthy'"
      ]
     },
     "execution_count": 137,
     "metadata": {},
     "output_type": "execute_result"
    }
   ],
   "source": [
    "truthy_or_falsy(\"Hello\")"
   ]
  },
  {
   "cell_type": "code",
   "execution_count": 138,
   "metadata": {},
   "outputs": [
    {
     "data": {
      "text/plain": [
       "'The value  is falsy'"
      ]
     },
     "execution_count": 138,
     "metadata": {},
     "output_type": "execute_result"
    }
   ],
   "source": [
    "truthy_or_falsy(\"\") "
   ]
  },
  {
   "cell_type": "code",
   "execution_count": 143,
   "metadata": {},
   "outputs": [],
   "source": [
    "# Declare a negative_energy function that accepts a numeric argument and returns its absolute value. \n",
    "# The absolute value is the number's distance from zero.\n",
    "# \n",
    "def negative_energy(input_val):\n",
    "    if input_val >= 0:\n",
    "        return input_val\n",
    "    return -1 * input_val\n",
    "# negative_energy(5)    => 5\n",
    "# negative_energy(10)   => 10\n",
    "# negative_energy(-5)   => 5\n",
    "# negative_energy(-8)   => 8\n",
    "# negative_energy(0)    => 0"
   ]
  },
  {
   "cell_type": "code",
   "execution_count": 144,
   "metadata": {},
   "outputs": [
    {
     "name": "stdout",
     "output_type": "stream",
     "text": [
      "5\n",
      "10\n",
      "5\n",
      "8\n",
      "0\n"
     ]
    }
   ],
   "source": [
    "print(negative_energy(5))\n",
    "print(negative_energy(10))\n",
    "print(negative_energy(-5))\n",
    "print(negative_energy(-8))\n",
    "print(negative_energy(0))"
   ]
  },
  {
   "cell_type": "code",
   "execution_count": 150,
   "metadata": {},
   "outputs": [
    {
     "name": "stdout",
     "output_type": "stream",
     "text": [
      "Greater\n"
     ]
    }
   ],
   "source": [
    "# Check\n",
    "a, b = 5, 3\n",
    "\n",
    "check = \"Greater\" if a > b else \"Lesser\"\n",
    "print(check)"
   ]
  },
  {
   "cell_type": "code",
   "execution_count": null,
   "metadata": {},
   "outputs": [],
   "source": [
    "# Define a function called \"factorial\" that accepts a single number as input\n",
    "#\n",
    "# A factorial represents the product of all numbers up to, and including, that number. \n",
    "# For example, 5 factorial is 5 * 4 * 3 * 2 * 1 = 120\n",
    "#\n",
    "# Return the factorial calculation from your function. You should NOT use any kind of loops. \n",
    "# Instead, utilize recursion. Your function MUST call itself.\n",
    "# See sample inputs and return values below\n",
    "#\n",
    "# factorial(1) => 1\n",
    "# factorial(2) => 2\n",
    "# factorial(3) => 6\n",
    "# factorial(4) => 24\n",
    "# factorial(5) => 120"
   ]
  },
  {
   "cell_type": "code",
   "execution_count": 168,
   "metadata": {},
   "outputs": [],
   "source": [
    "# Method 1\n",
    "def factorial(num):\n",
    "    if num == 0 or num == 1:\n",
    "        return 1\n",
    "    return num * factorial(num-1)\n",
    "    "
   ]
  },
  {
   "cell_type": "code",
   "execution_count": 169,
   "metadata": {},
   "outputs": [
    {
     "name": "stdout",
     "output_type": "stream",
     "text": [
      "1\n",
      "2\n",
      "6\n",
      "24\n",
      "120\n"
     ]
    }
   ],
   "source": [
    "print(factorial(1))\n",
    "print(factorial(2))\n",
    "print(factorial(3))\n",
    "print(factorial(4))\n",
    "print(factorial(5))"
   ]
  },
  {
   "cell_type": "code",
   "execution_count": 170,
   "metadata": {},
   "outputs": [],
   "source": [
    "# Method 2\n",
    "def factorial_of_a_number(num):\n",
    "    return 1 if num == 0 or num == 1 else num * factorial_of_a_number(num - 1)"
   ]
  },
  {
   "cell_type": "code",
   "execution_count": 171,
   "metadata": {},
   "outputs": [
    {
     "name": "stdout",
     "output_type": "stream",
     "text": [
      "1\n",
      "2\n",
      "6\n",
      "24\n",
      "120\n"
     ]
    }
   ],
   "source": [
    "print(factorial(1))\n",
    "print(factorial(2))\n",
    "print(factorial(3))\n",
    "print(factorial(4))\n",
    "print(factorial(5))"
   ]
  },
  {
   "cell_type": "code",
   "execution_count": 172,
   "metadata": {},
   "outputs": [],
   "source": [
    "# Define a divisible_by_three_and_four function that accepts a number as its argument. \n",
    "# It should return True if the number is evenly divisible by both 3 and 4 . \n",
    "# It should return False otherwise.\n",
    "#\n",
    "def divisible_by_three_and_four(num):\n",
    "    return True if num % 3 == 0 and num % 4 == 0 else False\n",
    "# divisible_by_three_and_four(3)   => False\n",
    "# divisible_by_three_and_four(4)   => False\n",
    "# divisible_by_three_and_four(12)  => True\n",
    "# divisible_by_three_and_four(18)  => False\n",
    "# divisible_by_three_and_four(24)  => True"
   ]
  },
  {
   "cell_type": "code",
   "execution_count": 174,
   "metadata": {},
   "outputs": [
    {
     "name": "stdout",
     "output_type": "stream",
     "text": [
      "False\n",
      "False\n",
      "True\n",
      "False\n",
      "True\n"
     ]
    }
   ],
   "source": [
    "print(divisible_by_three_and_four(3))\n",
    "print(divisible_by_three_and_four(4))\n",
    "print(divisible_by_three_and_four(12))\n",
    "print(divisible_by_three_and_four(18))\n",
    "print(divisible_by_three_and_four(24))\n"
   ]
  },
  {
   "cell_type": "code",
   "execution_count": 175,
   "metadata": {},
   "outputs": [],
   "source": [
    "# Declare a string_theory function that accepts a string as an argument. \n",
    "# It should return True if the string has more than 3 characters \n",
    "# and starts with a capital “S”. It should return False otherwise.\n",
    "#\n",
    "def string_theory(input_str):\n",
    "    return True if len(input_str) > 3 and input_str.startswith(\"S\") else False\n",
    "# string_theory(\"Sansa\") => True\n",
    "# string_theory(\"Story\") => True\n",
    "# string_theory(\"See\") => False\n",
    "# string_theory(\"Fable\") => False"
   ]
  },
  {
   "cell_type": "code",
   "execution_count": 176,
   "metadata": {},
   "outputs": [
    {
     "name": "stdout",
     "output_type": "stream",
     "text": [
      "True\n",
      "True\n",
      "False\n",
      "False\n"
     ]
    }
   ],
   "source": [
    "print(string_theory(\"Sansa\"))\n",
    "print(string_theory(\"Story\"))\n",
    "print(string_theory(\"See\"))\n",
    "print(string_theory(\"Fable\"))"
   ]
  },
  {
   "cell_type": "code",
   "execution_count": 189,
   "metadata": {},
   "outputs": [],
   "source": [
    "# FizzBuzz\n",
    "'''\n",
    "FizzBuzz is a popular programming problem to test a developer's ability to think logically with code.\n",
    "\n",
    "The problem is simple but deceptive.\n",
    "\n",
    "Define a fizzbuzz function that accepts a single number as an argument. The function should print every number from 1 to that argument. \n",
    "\n",
    "There are a couple caveats.\n",
    "\n",
    "If the number is divisible by 3, print \"Fizz\" instead of the number.\n",
    "\n",
    "If the number is divisible by 5, print \"Buzz\" instead of the number.\n",
    "\n",
    "If the number is divisible by both 3 and 5, print \"FizzBuzz\" instead of the number.\n",
    "\n",
    "If the number is not divisible by either 3 or 5, just print the number.\n",
    "\n",
    "'''\n",
    "def fizzbuzz(num):\n",
    "    for i in range(1, num + 1):\n",
    "        if i % 3 == 0:\n",
    "            print(\"Fizz\")\n",
    "        elif i % 5 == 0:\n",
    "            print(\"Buzz\")\n",
    "        elif i % 3 == 0 and i % 5 == 0:\n",
    "            print(\"FizzBuzz\")\n",
    "        elif not i % 3 == 0 and i % 5 == 0:\n",
    "            print(i)\n",
    "        else:\n",
    "            print(i)\n",
    "        "
   ]
  },
  {
   "cell_type": "code",
   "execution_count": 190,
   "metadata": {},
   "outputs": [
    {
     "name": "stdout",
     "output_type": "stream",
     "text": [
      "1\n",
      "2\n",
      "Fizz\n",
      "4\n",
      "Buzz\n",
      "Fizz\n",
      "7\n",
      "8\n",
      "Fizz\n",
      "Buzz\n",
      "11\n",
      "Fizz\n",
      "13\n",
      "14\n",
      "Fizz\n",
      "16\n",
      "17\n",
      "Fizz\n",
      "19\n",
      "Buzz\n",
      "Fizz\n",
      "22\n",
      "23\n",
      "Fizz\n",
      "Buzz\n",
      "26\n",
      "Fizz\n",
      "28\n",
      "29\n",
      "Fizz\n"
     ]
    }
   ],
   "source": [
    "fizzbuzz(30)"
   ]
  },
  {
   "cell_type": "markdown",
   "metadata": {},
   "source": [
    "## List\n",
    "\n",
    "A list is a data structure that contains ordered sequence of object."
   ]
  },
  {
   "cell_type": "code",
   "execution_count": 191,
   "metadata": {},
   "outputs": [],
   "source": [
    "# Create an empty list and assign it to the variable \"empty\".\n",
    "\n",
    "empty = []\n",
    "\n",
    "\n",
    "# Create a list with a single Boolean — True — and assign it to the variable \"active\".\n",
    "\n",
    "active = [True]\n",
    "\n",
    "# Create a list with 5 integers of your choice and assign it to the variable \"favorite_numbers\".\n",
    "\n",
    "favorite_numbers = [1, 2, 3, 4, 5]\n",
    "\n",
    "# Create a list with 3 strings  — \"red\", \"green\", \"blue\" — and assign it to the variable \"colors\".\n",
    "\n",
    "colors = [\"red\", \"green\", \"blue\"]\n",
    "\n",
    "# Declare an is_long function that accepts a single list as an argument\n",
    "# It should return True if the list has more than 5 elements, and False otherwise\n",
    "\n",
    "def is_long(single_list):\n",
    "    return True if len(single_list) > 5 else False\n"
   ]
  },
  {
   "cell_type": "code",
   "execution_count": 192,
   "metadata": {},
   "outputs": [
    {
     "data": {
      "text/plain": [
       "False"
      ]
     },
     "execution_count": 192,
     "metadata": {},
     "output_type": "execute_result"
    }
   ],
   "source": [
    "is_long(favorite_numbers)"
   ]
  },
  {
   "cell_type": "code",
   "execution_count": 193,
   "metadata": {},
   "outputs": [
    {
     "data": {
      "text/plain": [
       "False"
      ]
     },
     "execution_count": 193,
     "metadata": {},
     "output_type": "execute_result"
    }
   ],
   "source": [
    "is_long(colors)"
   ]
  },
  {
   "cell_type": "code",
   "execution_count": 194,
   "metadata": {},
   "outputs": [],
   "source": [
    "# Define a first_and_last function that accepts a list of strings. \n",
    "# The function should return a concatenation of the first element and the last element. \n",
    "# Assume the list will always have 1 or more elements.\n",
    "#\n",
    "def first_and_last(str_list):\n",
    "    return str_list[0] + str_list[-1]\n",
    "# first_and_last([\"a\", \"b\", \"c\"])        => \"ac\"\n",
    "# first_and_last([\"bob\", \"tom\", \"rob\"])  => \"bobrob\"\n",
    "# first_and_last([\"a\"])                  => \"aa\""
   ]
  },
  {
   "cell_type": "code",
   "execution_count": 197,
   "metadata": {},
   "outputs": [
    {
     "name": "stdout",
     "output_type": "stream",
     "text": [
      "ac\n",
      "bobrob\n",
      "aa\n"
     ]
    }
   ],
   "source": [
    "print(first_and_last([\"a\", \"b\", \"c\"]))\n",
    "print(first_and_last([\"bob\", \"tom\", \"rob\"]))\n",
    "print(first_and_last([\"a\"]) )"
   ]
  },
  {
   "cell_type": "code",
   "execution_count": 219,
   "metadata": {},
   "outputs": [],
   "source": [
    "# Define a product_of_even_indices function that accepts a list of numbers. \n",
    "# The list will always have 6 total elements. \n",
    "# The function should return the product (multiplied total) of all numbers at an even index (0, 2, 4).\n",
    "#\n",
    "def product_of_even_indices(num_list):\n",
    "    prod = 1\n",
    "    for i in range(0, len(num_list), 2):\n",
    "        prod *= num_list[i]\n",
    "    return prod   \n",
    "    \n",
    "\n",
    "# product_of_even_indices([1, 2, 3, 4, 5, 6])    =>  15\n",
    "# product_of_even_indices([3, 4, 3, 5, 3, 6])    =>  27"
   ]
  },
  {
   "cell_type": "code",
   "execution_count": 221,
   "metadata": {},
   "outputs": [
    {
     "name": "stdout",
     "output_type": "stream",
     "text": [
      "15\n",
      "27\n"
     ]
    }
   ],
   "source": [
    "print(product_of_even_indices([1, 2, 3, 4, 5, 6]))\n",
    "print(product_of_even_indices([3, 4, 3, 5, 3, 6]))"
   ]
  },
  {
   "cell_type": "code",
   "execution_count": 227,
   "metadata": {},
   "outputs": [],
   "source": [
    "# Define a first_letter_of_last_string function that accepts a list of strings. \n",
    "# It should return one character — the first letter of the last string in the list. \n",
    "# Assume the list will always have at least one string.\n",
    "#\n",
    "def first_letter_of_last_string(list_str):\n",
    "    return list_str[-1][0]\n",
    "# first_letter_of_last_string([\"cat\", \"dog\", \"zebra\"]) => \"z\"\n",
    "# first_letter_of_last_string([\"nonsense\"]) => \"n\""
   ]
  },
  {
   "cell_type": "code",
   "execution_count": 228,
   "metadata": {},
   "outputs": [
    {
     "name": "stdout",
     "output_type": "stream",
     "text": [
      "z\n",
      "n\n"
     ]
    }
   ],
   "source": [
    "print(first_letter_of_last_string([\"cat\", \"dog\", \"zebra\"]))\n",
    "print(first_letter_of_last_string([\"nonsense\"]))"
   ]
  },
  {
   "cell_type": "code",
   "execution_count": 12,
   "metadata": {},
   "outputs": [],
   "source": [
    "# Define a split_in_two function that accepts a list and a number.\n",
    "# If the number is even, return the list elements from the third element to the end of the list.\n",
    "# If the number is odd, return the list elements from index 0 (inclusive) to 2 (exclusive)\n",
    "\n",
    "def split_in_two(list_item, num):\n",
    "        return list_item[2:] if num % 2 == 0 else list_item[:2]\n",
    "    \n",
    "        \n",
    "    \n",
    "    \n",
    "\n",
    "\n",
    "# EXAMPLE:\n",
    "values = [\"a\", \"b\", \"c\", \"d\", \"e\", \"f\"]\n",
    "# split_in_two(values, 3)     => [\"a\", \"b\"]\n",
    "# split_in_two(values, 4)     => [\"c\", \"d\", \"e\", \"f\"]\n",
    "# split_in_two(values, 1)     => [\"a\", \"b\"]\n",
    "# split_in_two(values, 10)    => [\"c\", \"d\", \"e\", \"f\"]"
   ]
  },
  {
   "cell_type": "code",
   "execution_count": 13,
   "metadata": {},
   "outputs": [
    {
     "data": {
      "text/plain": [
       "['a', 'b']"
      ]
     },
     "execution_count": 13,
     "metadata": {},
     "output_type": "execute_result"
    }
   ],
   "source": [
    "values = [\"a\", \"b\", \"c\", \"d\", \"e\", \"f\"]\n",
    "split_in_two(values, 3)"
   ]
  },
  {
   "cell_type": "code",
   "execution_count": 14,
   "metadata": {},
   "outputs": [
    {
     "data": {
      "text/plain": [
       "['c', 'd', 'e', 'f']"
      ]
     },
     "execution_count": 14,
     "metadata": {},
     "output_type": "execute_result"
    }
   ],
   "source": [
    "split_in_two(values, 4) "
   ]
  },
  {
   "cell_type": "code",
   "execution_count": 58,
   "metadata": {},
   "outputs": [],
   "source": [
    "# Declare a nested_extraction function that accepts a list of lists and an index position.\n",
    "#\n",
    "# The function should use the index as the basis of finding both the nested list \n",
    "# and the element from that list with the given index position\n",
    "def nested_extraction(nl, i):\n",
    "    #for i in range(len(nl)):\n",
    "    return nl[i][i]\n",
    "\n",
    "# You can assume the number of lists will always be equal to \n",
    "# the number of elements within each of them.\n",
    "#\n",
    "# nl = [[3, 4, 5], [7, 8, 9], [10, 11, 12]]\n",
    "# nested_extraction(nl, 0)  => 3\n",
    "# nested_extraction(nl, 1)  => 8\n",
    "# nested_extraction(nl, 2)  => 12"
   ]
  },
  {
   "cell_type": "code",
   "execution_count": 59,
   "metadata": {
    "scrolled": true
   },
   "outputs": [
    {
     "data": {
      "text/plain": [
       "3"
      ]
     },
     "execution_count": 59,
     "metadata": {},
     "output_type": "execute_result"
    }
   ],
   "source": [
    "nl = [[3, 4, 5], [7, 8, 9], [10, 11, 12]]\n",
    "nested_extraction(nl, 0)"
   ]
  },
  {
   "cell_type": "code",
   "execution_count": 64,
   "metadata": {},
   "outputs": [],
   "source": [
    "# Declare a beginning_and_end function that accepts a list of elements.\n",
    "#\n",
    "# It should return True if the first and last elements in the list are equal and False if they are unequal.\n",
    "def beginning_and_end(num_list):\n",
    "    while num_list != []:\n",
    "        return True if num_list[0] == num_list[-1] else False\n",
    "    \n",
    "# Assume the list will always have at least 1 element\n",
    "# beginning_and_end([1, 2, 3, 1])     => True\n",
    "# beginning_and_end([1, 2, 3, 4, 5])  => False\n",
    "# beginning_and_end([\"a\", \"b\", \"a\"])  => True\n",
    "# beginning_and_end([15])             => True"
   ]
  },
  {
   "cell_type": "code",
   "execution_count": 65,
   "metadata": {},
   "outputs": [
    {
     "data": {
      "text/plain": [
       "True"
      ]
     },
     "execution_count": 65,
     "metadata": {},
     "output_type": "execute_result"
    }
   ],
   "source": [
    "beginning_and_end([1, 2, 3, 1])"
   ]
  },
  {
   "cell_type": "code",
   "execution_count": 75,
   "metadata": {},
   "outputs": [],
   "source": [
    "# Declare a long_word_in_collection function that accepts a list and a string. \n",
    "# The function should return True if \n",
    "#   - the string exists in the list AND\n",
    "#   - the string has more than 4 characters.\n",
    "def long_word_in_collection(words, str):\n",
    "    return True if str in words and len(str) > 4 else False\n",
    "words = [\"cat\", \"dog\", \"rhino\"]\n",
    "# long_word_in_collection(words, \"rhino\")  => True\n",
    "# long_word_in_collection(words, \"cat\")    => False\n",
    "# long_word_in_collection(words, \"monkey\") => False"
   ]
  },
  {
   "cell_type": "code",
   "execution_count": 76,
   "metadata": {},
   "outputs": [
    {
     "data": {
      "text/plain": [
       "True"
      ]
     },
     "execution_count": 76,
     "metadata": {},
     "output_type": "execute_result"
    }
   ],
   "source": [
    "long_word_in_collection(words, \"rhino\")"
   ]
  },
  {
   "cell_type": "code",
   "execution_count": 78,
   "metadata": {},
   "outputs": [
    {
     "data": {
      "text/plain": [
       "False"
      ]
     },
     "execution_count": 78,
     "metadata": {},
     "output_type": "execute_result"
    }
   ],
   "source": [
    "long_word_in_collection(words, \"cat\") "
   ]
  },
  {
   "cell_type": "code",
   "execution_count": 77,
   "metadata": {},
   "outputs": [
    {
     "data": {
      "text/plain": [
       "False"
      ]
     },
     "execution_count": 77,
     "metadata": {},
     "output_type": "execute_result"
    }
   ],
   "source": [
    "long_word_in_collection(words, \"monkey\")"
   ]
  },
  {
   "cell_type": "code",
   "execution_count": null,
   "metadata": {},
   "outputs": [],
   "source": []
  },
  {
   "cell_type": "markdown",
   "metadata": {},
   "source": [
    "## Section 10\n",
    "### Lists: Iteration"
   ]
  },
  {
   "cell_type": "code",
   "execution_count": 70,
   "metadata": {},
   "outputs": [],
   "source": [
    "# Define a sum_of_lengths function that accepts a list of strings.\n",
    "# The function should return the sum of the string lengths.\n",
    "\n",
    "def sum_of_lengths(str_lst):  \n",
    "    total = 0\n",
    "    for str in range(len(str_lst)):        \n",
    "        total += len(str_lst[str]) \n",
    "    return total\n",
    "# EXAMPLES\n",
    "# sum_of_lengths([\"Hello\", \"Bob\"])                  => 8\n",
    "# sum_of_lengths([\"Nonsense\"])                      => 8\n",
    "# sum_of_lengths([\"Nonsense\", \"or\", \"confidence\"])  => 20"
   ]
  },
  {
   "cell_type": "code",
   "execution_count": 71,
   "metadata": {},
   "outputs": [
    {
     "data": {
      "text/plain": [
       "8"
      ]
     },
     "execution_count": 71,
     "metadata": {},
     "output_type": "execute_result"
    }
   ],
   "source": [
    "sum_of_lengths([\"Hello\", \"Bob\"])"
   ]
  },
  {
   "cell_type": "code",
   "execution_count": 81,
   "metadata": {},
   "outputs": [],
   "source": [
    "# Define a product function that accepts a list of numbers.\n",
    "# The function should return the product of the numbers.\n",
    "# The list will always have at least one value\n",
    "def product(numl):\n",
    "    prod = 1\n",
    "    for num in range(len(numl)):\n",
    "        prod *= numl[num]\n",
    "    return prod\n",
    "# EXAMPLES\n",
    "# product([1, 2, 3])     => 6\n",
    "# product([4, 5, 6, 7])  => 840\n",
    "# product([10])          => 10\n"
   ]
  },
  {
   "cell_type": "code",
   "execution_count": 82,
   "metadata": {},
   "outputs": [
    {
     "data": {
      "text/plain": [
       "6"
      ]
     },
     "execution_count": 82,
     "metadata": {},
     "output_type": "execute_result"
    }
   ],
   "source": [
    "product([1, 2, 3]) "
   ]
  },
  {
   "cell_type": "code",
   "execution_count": 3,
   "metadata": {},
   "outputs": [],
   "source": [
    "# Define a smallest_number function  that accepts a list of numbers.\n",
    "# It should return the smallest value in the list.\n",
    "def smallest_number(num_list):\n",
    "    smallest = num_list[0]\n",
    "    for num in range(len(num_list)):\n",
    "        if num_list[num] < smallest:\n",
    "            smallest = num_list[num]\n",
    "    return smallest\n",
    "# smallest_number([1, 2, 3])     => 1\n",
    "# smallest_number([3, 2, 1])     => 1\n",
    "# smallest_number([4, 5, 4])     => 4\n",
    "# smallest_number([-3, -2, -1])  => -3"
   ]
  },
  {
   "cell_type": "code",
   "execution_count": 4,
   "metadata": {},
   "outputs": [
    {
     "data": {
      "text/plain": [
       "1"
      ]
     },
     "execution_count": 4,
     "metadata": {},
     "output_type": "execute_result"
    }
   ],
   "source": [
    "smallest_number([1, 2, 3])"
   ]
  },
  {
   "cell_type": "code",
   "execution_count": 42,
   "metadata": {},
   "outputs": [
    {
     "data": {
      "text/plain": [
       "'abcfgh'"
      ]
     },
     "execution_count": 42,
     "metadata": {},
     "output_type": "execute_result"
    }
   ],
   "source": [
    "# Define a concatenate function that accepts a list of strings. \n",
    "#\n",
    "# The function should return a concatenated string which consists of\n",
    "# all list elements whose length is greater than 2 characters.\n",
    "def concatenate(str_list):\n",
    "    str = \"\"\n",
    "    for ele in range(len(str_list)):\n",
    "        if len(str_list[ele]) > 2:\n",
    "            str += str_list[ele]\n",
    "        \n",
    "    return str\n",
    "    \n",
    "#concatenate([\"abc\", \"def\", \"ghi\"])      => \"abcdefghi\"\n",
    "concatenate([\"abc\", \"de\", \"fgh\", \"ic\"]) # => \"abcfgh\"\n",
    "# concatenate([\"ab\", \"cd\", \"ef\", \"gh\"])   => \"\""
   ]
  },
  {
   "cell_type": "code",
   "execution_count": 41,
   "metadata": {},
   "outputs": [
    {
     "data": {
      "text/plain": [
       "12"
      ]
     },
     "execution_count": 41,
     "metadata": {},
     "output_type": "execute_result"
    }
   ],
   "source": [
    "# Define a super_sum function that accepts a list of strings. \n",
    "# The function should sum the index positions of the first occurence of the letter “s” in each word. \n",
    "#\n",
    "# Not every word is guaranteed to have an “s”.\n",
    "# Don’t use \"sum\" as a variable name as it’s a built-in keyword.\n",
    "def super_sum(str_list):\n",
    "    idx = 0\n",
    "    for str in range(len(str_list)):\n",
    "        idx += str_list[str].find(\"s\")\n",
    "    return idx \n",
    "    \n",
    "    \n",
    "# super_sum([])     #                            => 0\n",
    "# super_sum([\"mustache\"])  #                     => 2\n",
    "# super_sum([\"mustache\", \"greatest\"])  #         => 8\n",
    "# super_sum([\"mustache\", \"pessimist\"]) #         => 4\n",
    "super_sum([\"mustache\", \"greatest\", \"almost\"]) # => 12"
   ]
  },
  {
   "cell_type": "code",
   "execution_count": 123,
   "metadata": {},
   "outputs": [],
   "source": [
    "# Define an in_list function that accepts a list of strings and a separate string.\n",
    "# Return the index where the string exists in the list.\n",
    "# If the string does not exist, return -1.\n",
    "# Do NOT use the find or index methods.\n",
    "\n",
    "def in_list(str_list, word):\n",
    "    for idx, ele in enumerate(str_list): \n",
    "        if word == ele:\n",
    "            return idx\n",
    "    return -1\n",
    "        \n",
    "        \n",
    "        \n",
    "        \n",
    "# EXAMPLES\n",
    "# strings = [\"enchanted\", \"sparks fly\", \"long live\"]\n",
    "# in_list(strings, \"enchanted\")  ==> 0\n",
    "# in_list(strings, \"sparks fly\") ==> 1\n",
    "# in_list(strings, \"fifteen\")    ==> -1\n",
    "# in_list(strings, \"love story\") ==> -1"
   ]
  },
  {
   "cell_type": "code",
   "execution_count": 124,
   "metadata": {},
   "outputs": [
    {
     "name": "stdout",
     "output_type": "stream",
     "text": [
      "0\n",
      "1\n",
      "-1\n",
      "-1\n"
     ]
    }
   ],
   "source": [
    "strings = [\"enchanted\", \"sparks fly\", \"long live\"]\n",
    "print(in_list(strings, \"enchanted\")) # ==> 0\n",
    "print(in_list(strings, \"sparks fly\")) # ==> 1\n",
    "print(in_list(strings, \"fifteen\")) #   ==> -1\n",
    "print(in_list(strings, \"love story\")) # ==> -1"
   ]
  },
  {
   "cell_type": "code",
   "execution_count": 120,
   "metadata": {},
   "outputs": [],
   "source": [
    "# Define a sum_of_values_and_indices function that accepts a list of numbers. \n",
    "# It should return the sum of all of the elements along with their index values.\n",
    "def sum_of_values_and_indices(num_list):\n",
    "    total = 0\n",
    "    for idx, num in enumerate(num_list):\n",
    "        total += (idx + num)\n",
    "    return total\n",
    "    \n",
    "\n",
    "        \n",
    "# EXAMPLES\n",
    "# sum_of_values_and_indices([1, 2, 3])    => (1 + 0) + (2 + 1) + (3 + 2) => 9\n",
    "# sum_of_values_and_indices([0, 0, 0, 0]) => 6\n",
    "# sum_of_values_and_indices([])           => 0"
   ]
  },
  {
   "cell_type": "code",
   "execution_count": 121,
   "metadata": {},
   "outputs": [
    {
     "name": "stdout",
     "output_type": "stream",
     "text": [
      "9\n"
     ]
    }
   ],
   "source": [
    "print(sum_of_values_and_indices([1, 2, 3]))"
   ]
  },
  {
   "cell_type": "code",
   "execution_count": 154,
   "metadata": {},
   "outputs": [
    {
     "name": "stdout",
     "output_type": "stream",
     "text": [
      "6\n"
     ]
    }
   ],
   "source": [
    "print(sum_of_values_and_indices([0, 0, 0, 0]))"
   ]
  },
  {
   "cell_type": "code",
   "execution_count": 187,
   "metadata": {},
   "outputs": [],
   "source": [
    "# Declare a length_match function that accepts a list of strings and an integer.\n",
    "# It should return a count of the number of strings whose length is equal to the number.\n",
    "def length_match(strings, number):\n",
    "    total = 0\n",
    "    \n",
    "    for idx, animal in enumerate(strings):\n",
    "        if len(animal) != number:\n",
    "            continue\n",
    "        total += 1            \n",
    "    return total\n",
    "            \n",
    "    \n",
    "# EXAMPLES \n",
    "# length_match([\"cat\", \"dog\", \"kangaroo\", \"mouse\"], 3))  => 2\n",
    "# length_match([\"cat\", \"dog\", \"kangaroo\", \"mouse\"], 5))  => 1\n",
    "# length_match([\"cat\", \"dog\", \"kangaroo\", \"mouse\"], 4))  => 0\n",
    "# length_match([], 5))     "
   ]
  },
  {
   "cell_type": "code",
   "execution_count": 193,
   "metadata": {},
   "outputs": [],
   "source": [
    "# Declare a sum_from function that accepts two numbers as arguments.\n",
    "# The second number will always be greater than the first number.\n",
    "# The function should return the sum of all numbers from the first number to the second number (inclusive).\n",
    "def sum_from(num1, num2):\n",
    "    total = 0\n",
    "    for i in range(num1, num2+1):\n",
    "        if num1 > num2:\n",
    "            return total\n",
    "            break\n",
    "            \n",
    "        total += i\n",
    "    return total\n",
    "            \n",
    "# EXAMPLES\n",
    "# sum_from(1, 2)   # 1 + 2                  => 3\n",
    "# sum_from(1, 5)   # 1 + 2 + 3 + 4 + 5      => 15\n",
    "# sum_from(3, 8)   # 3 + 4 + 5 + 6 + 7 + 8  => 33\n",
    "# sum_from(9, 12)  # 9 + 10 + 11 + 12       => 42"
   ]
  },
  {
   "cell_type": "code",
   "execution_count": 2,
   "metadata": {},
   "outputs": [],
   "source": [
    "# Declare a same_index_values function that accepts two lists.\n",
    "# The function should return a list of the index positions in which the two lists have equal elements\n",
    "def same_index_values(l1, l2):\n",
    "    position = []\n",
    "    for ele in range(len(l1)):\n",
    "        if l1[ele] != l2[ele]:\n",
    "            continue\n",
    "        position.append(ele)\n",
    "            \n",
    "    return position\n",
    "                \n",
    "            \n",
    "# EXAMPLES\n",
    "# same_index_values([1, 2, 3], [3, 2, 1])                         => [1]\n",
    "# same_index_values([\"a\", \"b\", \"c\", \"d\"], [\"c\", \"b\", \"a\", \"d\"])   => [1, 3]"
   ]
  },
  {
   "cell_type": "code",
   "execution_count": 3,
   "metadata": {},
   "outputs": [
    {
     "data": {
      "text/plain": [
       "[1, 3]"
      ]
     },
     "execution_count": 3,
     "metadata": {},
     "output_type": "execute_result"
    }
   ],
   "source": [
    "same_index_values([\"a\", \"b\", \"c\", \"d\"], [\"c\", \"b\", \"a\", \"d\"]) "
   ]
  },
  {
   "cell_type": "markdown",
   "metadata": {},
   "source": [
    "### List: Mutation"
   ]
  },
  {
   "cell_type": "code",
   "execution_count": 14,
   "metadata": {},
   "outputs": [],
   "source": [
    "# Given the great_directors list below, overwrite the “Steven Spielberg” string with a string of “Michael Bay”.\n",
    "great_directors = [\"Martin Scorsese\", \"Steven Spielberg\", \"Francis Ford Coppola\"]\n",
    "great_directors[1] = \"Michael Bay\"\n",
    "\n",
    "\n",
    "# Given the transformers list below, overwrite “Bumblebee” with “Grimlock”.\n",
    "transformers = [\"Optimus Prime\", \"Megatron\", \"Bumblebee\", \"Starscream\"]\n",
    "transformers[2] = \"Grimlock\"\n",
    "\n",
    "# Given the camping_trip_supplies list below, overwrite \"Socks\" with \"Food\".\n",
    "camping_trip_supplies = [\"Socks\", \"Flashlight\", \"Tent\", \"Blanket\"]\n",
    "camping_trip_supplies[0] = \"Food\"\n",
    "\n",
    "# Given the tech_companies list below, overwrite the Microsoft, Blueberry, and IBM strings \n",
    "# with the strings “Facebook” and “Apple”. Use list slicing syntax.\n",
    "tech_companies = [\"Google\", \"Microsoft\", \"Blackberry\", \"IBM\", \"Yahoo\"]\n",
    "tech_companies[1:4] = [\"Facebook\", \"Apple\"]"
   ]
  },
  {
   "cell_type": "code",
   "execution_count": 15,
   "metadata": {},
   "outputs": [],
   "source": [
    "# Define an only_evens function that accepts a list of numbers. \n",
    "# It should return a new list consisting of only the even numbers from the original list.\n",
    "def only_evens(numbers):\n",
    "    even = []\n",
    "    for number in numbers:\n",
    "        if number % 2 == 0:\n",
    "            even.append(number)\n",
    "    return even  \n",
    "        \n",
    "    \n",
    "    \n",
    "# EXAMPLES\n",
    "# only_evens([4, 8, 15, 16, 23, 42]) => [4, 8, 16, 42]\n",
    "# only_evens([1, 3, 5])              => []\n",
    "# only_evens([])                     => []\n"
   ]
  },
  {
   "cell_type": "code",
   "execution_count": 16,
   "metadata": {},
   "outputs": [
    {
     "name": "stdout",
     "output_type": "stream",
     "text": [
      "[4, 8, 16, 42]\n"
     ]
    }
   ],
   "source": [
    "print(only_evens([4, 8, 15, 16, 23, 42]))"
   ]
  },
  {
   "cell_type": "code",
   "execution_count": 17,
   "metadata": {},
   "outputs": [],
   "source": [
    "# Define a long_strings function that accepts a list of strings. \n",
    "# It should return a new list consisting of only the strings that have 5 characters or more.\n",
    "\n",
    "def long_strings(strings):\n",
    "    stringl = []\n",
    "    for string in strings:\n",
    "        if (len(string) >= 5):\n",
    "            stringl.append(string)\n",
    "    return stringl\n",
    "\n",
    "# EXAMPLES\n",
    "# long_strings([\"Hello\", \"Goodbye\", \"Sam\"])  => [\"Hello\", \"Goodbye\"]\n",
    "# long_strings([\"Ace\", \"Cat\", \"Job\"])        => []\n",
    "# long_strings([])                           => []\n"
   ]
  },
  {
   "cell_type": "code",
   "execution_count": 18,
   "metadata": {},
   "outputs": [
    {
     "name": "stdout",
     "output_type": "stream",
     "text": [
      "['Hello', 'Goodbye']\n"
     ]
    }
   ],
   "source": [
    "print(long_strings([\"Hello\", \"Goodbye\", \"Sam\"]))"
   ]
  },
  {
   "cell_type": "code",
   "execution_count": 50,
   "metadata": {},
   "outputs": [],
   "source": [
    "# Write a factors function that accepts a positive whole number\n",
    "# It should return a list of all of the number's factors in ascending order\n",
    "# HINT: Could the range function be helpful here? Or maybe a while loop?\n",
    "\n",
    "def factors(number):\n",
    "    factorl = []\n",
    "    for num in range(number+1):   \n",
    "        if num <= number and num!= 0 and number !=0 and number % num == 0:\n",
    "            factorl.append(num)\n",
    "    return factorl\n",
    "    \n",
    "\n",
    "# EXAMPLES\n",
    "# factors(1)  => [1]\n",
    "# factors(2)  => [1, 2]\n",
    "# factors(10) => [1, 2, 5, 10]\n",
    "# factors(64) => [1, 2, 4, 8, 16, 32, 64]"
   ]
  },
  {
   "cell_type": "code",
   "execution_count": 51,
   "metadata": {},
   "outputs": [
    {
     "name": "stdout",
     "output_type": "stream",
     "text": [
      "[1, 2, 4, 8, 16, 32, 64]\n"
     ]
    }
   ],
   "source": [
    "print(factors(64))"
   ]
  },
  {
   "cell_type": "code",
   "execution_count": 82,
   "metadata": {},
   "outputs": [],
   "source": [
    "# Declare a delete_all function that accepts a list of strings and a target string\n",
    "# Remove all occurrences of the target string from the list and return it\n",
    "\n",
    "def delete_all(strings, string): \n",
    "    while string in strings:\n",
    "        strings.remove(string)\n",
    "    return strings\n",
    "        \n",
    "        \n",
    "# EXAMPLES\n",
    "# delete_all([1, 3, 5], 3)  => [1, 5]\n",
    "# delete_all([5, 3, 5], 5)  => [3]\n",
    "# delete_all([4, 4, 4], 4)  => []\n",
    "# delete_all([4, 4, 4], 6)  => [4, 4, 4]"
   ]
  },
  {
   "cell_type": "code",
   "execution_count": 83,
   "metadata": {},
   "outputs": [
    {
     "name": "stdout",
     "output_type": "stream",
     "text": [
      "[4, 4, 4]\n",
      "[3]\n",
      "[]\n"
     ]
    }
   ],
   "source": [
    "print(delete_all([4, 4, 4], 6))\n",
    "print(delete_all([5, 3, 5], 5))\n",
    "print(delete_all([4, 4, 4], 4))"
   ]
  },
  {
   "cell_type": "code",
   "execution_count": 59,
   "metadata": {},
   "outputs": [],
   "source": [
    "# Declare a push_or_pop function that accepts a list of numbers\n",
    "# Build up and return a new list by iterating over the list of numbers\n",
    "# If a number is greater than 5, add it to the end of the new list\n",
    "# If a number is less than or equal to 5, remove the last element added to the new list\n",
    "# Assume the order of numbers in the argument will never require removing from an empty list\n",
    "\n",
    "def push_or_pop(numbers):\n",
    "    new_numbers = []\n",
    "    for num in numbers:\n",
    "        if num > 5:\n",
    "            new_numbers.append(num)\n",
    "        if num <= 5:\n",
    "            new_numbers.pop()\n",
    "    return new_numbers\n",
    "            \n",
    "            \n",
    "# EXAMPLES\n",
    "# push_or_pop([10])            => [10]\n",
    "# push_or_pop([10, 4])         => []\n",
    "# push_or_pop([10, 20, 30])    => [10, 20, 30]\n",
    "# push_or_pop([10, 20, 2, 30]) => [10, 30]"
   ]
  },
  {
   "cell_type": "code",
   "execution_count": 61,
   "metadata": {},
   "outputs": [
    {
     "name": "stdout",
     "output_type": "stream",
     "text": [
      "[10, 30]\n"
     ]
    }
   ],
   "source": [
    "print(push_or_pop([10, 20, 2, 30]))"
   ]
  },
  {
   "cell_type": "code",
   "execution_count": 84,
   "metadata": {},
   "outputs": [],
   "source": [
    "numbers = [1, 4, 5, 7, 9]\n",
    "numbers[1:3] = [6, 8]\n"
   ]
  },
  {
   "cell_type": "code",
   "execution_count": 86,
   "metadata": {},
   "outputs": [
    {
     "name": "stdout",
     "output_type": "stream",
     "text": [
      "[1, 6, 8, 7, 9]\n"
     ]
    }
   ],
   "source": [
    "print(numbers)"
   ]
  },
  {
   "cell_type": "markdown",
   "metadata": {},
   "source": [
    "### List: Methods"
   ]
  },
  {
   "cell_type": "code",
   "execution_count": 165,
   "metadata": {},
   "outputs": [],
   "source": [
    "# Define an encrypt_message function that accepts a string.\n",
    "# The input string will consist of only alphabetic characters.\n",
    "# The function should return a string where all characters have been moved\n",
    "# \"up\" two spots in the alphabet. For example, \"a\" will become \"c\".\n",
    "\n",
    "def encrypt_message(strings):\n",
    "    decrypted = \"\"\n",
    "    alphabet = \"abcdefghijklmnopqrstuvwxyz\"\n",
    "    \n",
    "    for letter in strings:\n",
    "        encrypted = (alphabet.index(letter) + 2) % 26 \n",
    "        decrypted += alphabet[encrypted]\n",
    "    return decrypted     \n",
    "    \n",
    "# EXAMPLES\n",
    "# encrypt_message(\"abc\") => \"cde\"\n",
    "# encrypt_message(\"xyz\") => \"zab\"\n",
    "# encrypt_message(\"\")    => \"\""
   ]
  },
  {
   "cell_type": "code",
   "execution_count": 166,
   "metadata": {},
   "outputs": [
    {
     "data": {
      "text/plain": [
       "'cde'"
      ]
     },
     "execution_count": 166,
     "metadata": {},
     "output_type": "execute_result"
    }
   ],
   "source": [
    "encrypt_message(\"abc\")"
   ]
  },
  {
   "cell_type": "code",
   "execution_count": 5,
   "metadata": {},
   "outputs": [],
   "source": [
    "# Define a word_lengths function that accepts a string. \n",
    "# It should return a list with the lengths of each word.\n",
    "\n",
    "def word_lengths(my_string):\n",
    "    new_list = my_string.split(\" \")   \n",
    "    return [len(word) for word in new_list]\n",
    "\n",
    "# EXAMPLES\n",
    "# word_lengths(\"Mary Poppins was a nanny\")  => [4, 7, 3, 1, 5]\n",
    "# word_lengths(\"Somebody stole my donut\")   => [8, 5, 2, 5]"
   ]
  },
  {
   "cell_type": "code",
   "execution_count": 7,
   "metadata": {},
   "outputs": [
    {
     "name": "stdout",
     "output_type": "stream",
     "text": [
      "[4, 7, 3, 1, 5]\n",
      "[8, 5, 2, 5]\n"
     ]
    }
   ],
   "source": [
    "print(word_lengths(\"Mary Poppins was a nanny\"))\n",
    "print(word_lengths(\"Somebody stole my donut\"))"
   ]
  },
  {
   "cell_type": "code",
   "execution_count": 87,
   "metadata": {},
   "outputs": [],
   "source": [
    "# Define a cleanup function that accepts a list of strings.\n",
    "# The function should return the strings joined together by a space.\n",
    "# There's one BIG problem -- some of the strings are empty or only consist of spaces!\n",
    "# These should NOT be included in the final string\n",
    "\n",
    "def cleanup(stringsl):\n",
    "    valid_strings = []\n",
    "    for word in stringsl:\n",
    "        \n",
    "        if word.isspace() or len(word) == 0:\n",
    "            continue\n",
    "        valid_strings.append(word)\n",
    "    new_strings = \" \".join(valid_strings)\n",
    "            \n",
    "    return new_strings\n",
    "    \n",
    "\n",
    "# cleanup([\"cat\", \"er\", \"pillar\"])           => \"cat er pillar\"\n",
    "# cleanup([\"cat\", \" \", \"er\", \"\", \"pillar\"])  => \"cat er pillar\"\n",
    "# cleanup([\"\", \"\", \" \"])                     => \"\""
   ]
  },
  {
   "cell_type": "code",
   "execution_count": 88,
   "metadata": {},
   "outputs": [
    {
     "name": "stdout",
     "output_type": "stream",
     "text": [
      "cat er pillar\n"
     ]
    }
   ],
   "source": [
    "print(cleanup([\"cat\", \" \", \"er\", \"\", \"pillar\"]))"
   ]
  },
  {
   "cell_type": "code",
   "execution_count": 3,
   "metadata": {},
   "outputs": [
    {
     "name": "stdout",
     "output_type": "stream",
     "text": [
      "The menu is ('Rice water', 'Banku', 'Chips')\n",
      "The menu is ('Oat', 'Rice', 'Noodles')\n",
      "The menu is ('Tea', 'Yam', 'Plaintain')\n"
     ]
    }
   ],
   "source": [
    "# Zip() function\n",
    "\n",
    "breakfasts = [\"Rice water\", \"Oat\", \"Tea\"]\n",
    "lunchs = [\"Banku\", \"Rice\", \"Yam\"]\n",
    "dinners = [\"Chips\", \"Noodles\", \"Plaintain\"]\n",
    "\n",
    "for breakfast, lunch, dinner in zip(breakfasts, lunchs, dinners):\n",
    "    print(f\"The menu is {breakfast, lunch, dinner}\")\n"
   ]
  },
  {
   "cell_type": "code",
   "execution_count": 10,
   "metadata": {},
   "outputs": [
    {
     "name": "stdout",
     "output_type": "stream",
     "text": [
      "[['Rice water', 'Oat', 'Tea'], ['Banku', 'Rice', 'Yam'], ['Chips', 'Noodles', 'Plaintain']]\n",
      "Rice water\n",
      "Oat\n",
      "Tea\n",
      "Banku\n",
      "Rice\n",
      "Yam\n",
      "Chips\n",
      "Noodles\n",
      "Plaintain\n"
     ]
    }
   ],
   "source": [
    "meals = [\n",
    "    [\"Rice water\", \"Oat\", \"Tea\"],\n",
    "    [\"Banku\", \"Rice\", \"Yam\"],\n",
    "    [\"Chips\", \"Noodles\", \"Plaintain\"]\n",
    "\n",
    "]\n",
    "\n",
    "print(meals)\n",
    "\n",
    "for meal_pack in meals:\n",
    "    for meal in meal_pack:\n",
    "        print(meal)"
   ]
  },
  {
   "cell_type": "code",
   "execution_count": 11,
   "metadata": {},
   "outputs": [
    {
     "data": {
      "text/plain": [
       "str"
      ]
     },
     "execution_count": 11,
     "metadata": {},
     "output_type": "execute_result"
    }
   ],
   "source": [
    "type(meal)"
   ]
  },
  {
   "cell_type": "code",
   "execution_count": 12,
   "metadata": {},
   "outputs": [
    {
     "data": {
      "text/plain": [
       "['Rice water',\n",
       " 'Oat',\n",
       " 'Tea',\n",
       " 'Banku',\n",
       " 'Rice',\n",
       " 'Yam',\n",
       " 'Chips',\n",
       " 'Noodles',\n",
       " 'Plaintain']"
      ]
     },
     "execution_count": 12,
     "metadata": {},
     "output_type": "execute_result"
    }
   ],
   "source": [
    "[meal for meal_pack in meals for meal in meal_pack]"
   ]
  },
  {
   "cell_type": "code",
   "execution_count": 18,
   "metadata": {},
   "outputs": [],
   "source": [
    "# Define a nested_sum function that accepts a list of lists of numbers\n",
    "# The function should return the sum of the values\n",
    "# The list may contain empty lists\n",
    "\n",
    "def nested_sum(numbers):\n",
    "    total = 0\n",
    "    for number in numbers:\n",
    "        for value in number:\n",
    "            total += value\n",
    "    return total\n",
    "    \n",
    "\n",
    "# EXAMPLES\n",
    "# nested_sum([[1, 2, 3], [4, 5]])            => 15\n",
    "# nested_sum([[1, 2, 3], [], [], [4], [5]])  => 15\n",
    "# nested_sum([[]])                           => 0"
   ]
  },
  {
   "cell_type": "code",
   "execution_count": 20,
   "metadata": {},
   "outputs": [
    {
     "name": "stdout",
     "output_type": "stream",
     "text": [
      "15\n",
      "0\n"
     ]
    }
   ],
   "source": [
    "print(nested_sum([[1, 2, 3], [4, 5]]))\n",
    "print(nested_sum([[]]) )"
   ]
  },
  {
   "cell_type": "code",
   "execution_count": 39,
   "metadata": {},
   "outputs": [],
   "source": [
    "# Define a fancy_concatenate function that accepts a list of lists of strings\n",
    "# The function should return a concatenated string\n",
    "# The strings in a list should only be concatenated if the length of the list is 3\n",
    "\n",
    "def fancy_concatenate(strings):\n",
    "    concatenate = \"\"\n",
    "    for string in strings:\n",
    "        for word in string:\n",
    "            if len(string) == 3:\n",
    "                concatenate += word\n",
    "    \n",
    "    return concatenate\n",
    "\n",
    "\n",
    "# EXAMPLES\n",
    "# fancy_concatenate([[\"A\", \"B\", \"C\"]])                        => \"ABC\"\n",
    "# fancy_concatenate([[\"A\", \"B\", \"C\"], [\"D\", \"E\", \"F\"]])       => \"ABCDEF\"\n",
    "# fancy_concatenate([[\"A\", \"B\", \"C\"], [\"D\", \"E\", \"F\", \"G\"]])  => \"ABC\"\n",
    "# fancy_concatenate([[\"A\", \"B\", \"C\"], [\"D\", \"E\"]])            => \"ABC\"\n",
    "# fancy_concatenate([[\"A\", \"B\"], [\"C\", \"D\"]])                 => \"\""
   ]
  },
  {
   "cell_type": "code",
   "execution_count": 40,
   "metadata": {},
   "outputs": [
    {
     "name": "stdout",
     "output_type": "stream",
     "text": [
      "ABC\n"
     ]
    }
   ],
   "source": [
    "print(fancy_concatenate([[\"A\", \"B\", \"C\"]]) )"
   ]
  },
  {
   "cell_type": "markdown",
   "metadata": {},
   "source": [
    "### List comprehension"
   ]
  },
  {
   "cell_type": "code",
   "execution_count": 65,
   "metadata": {},
   "outputs": [
    {
     "name": "stdout",
     "output_type": "stream",
     "text": [
      "[3.14, 9.99, 567.324, 5.678]\n",
      "['BBB', 'ooo', 'rrr', 'iii', 'sss']\n",
      "[8, 6, 7, 5, 6]\n"
     ]
    }
   ],
   "source": [
    "# Uncomment the commented lines of code below and complete the list comprehension logic\n",
    "\n",
    "# The floats variable should store the floating point values \n",
    "# for each string in the values list.\n",
    "values = [\"3.14\", \"9.99\", \"567.324\", \"5.678\"]\n",
    "floats = [float(value) for value in values]\n",
    "\n",
    "# The letters variable should store a list of 5 strings. \n",
    "# Each of the strings should be a character from name concatenated together 3 times.\n",
    "# i.e. ['BBB', 'ooo', 'rrr', 'iii', 'sss']\n",
    "name = \"Boris\"\n",
    "letters = [char*3 for char in name]\n",
    "\n",
    "# The 'lengths' list should store a list with the lengths\n",
    "# of each string in the 'elements' list\n",
    "elements = [\"Hydrogen\", \"Helium\", \"Lithium\", \"Boron\", \"Carbon\"]\n",
    "lengths = [len(element) for element in elements]\n",
    "\n",
    "\n",
    "print(floats)\n",
    "print(letters)\n",
    "print(lengths)"
   ]
  },
  {
   "cell_type": "code",
   "execution_count": 94,
   "metadata": {},
   "outputs": [
    {
     "name": "stdout",
     "output_type": "stream",
     "text": [
      "[3]\n",
      "[]\n",
      "[1, 2, 3]\n"
     ]
    }
   ],
   "source": [
    "# Declare a destroy_elements function that accepts two lists.\n",
    "# It should return a list of all elements from the first list that are NOT contained in the second list.\n",
    "# Use list comprehension in your solution.\n",
    "\n",
    "def destroy_elements(l1, l2):\n",
    "    return [ele for ele in l1 if ele not in l2]\n",
    "\n",
    "# EXAMPLES\n",
    "# destroy_elements([1, 2, 3], [1, 2])      => [3]\n",
    "# destroy_elements([1, 2, 3], [1, 2, 3])   => []\n",
    "# destroy_elements([1, 2, 3], [4, 5])      => [1, 2, 3]\n",
    "print(destroy_elements([1, 2, 3], [1, 2]))\n",
    "print(destroy_elements([1, 2, 3], [1, 2, 3]))\n",
    "print(destroy_elements([1, 2, 3], [4, 5]))"
   ]
  },
  {
   "cell_type": "markdown",
   "metadata": {},
   "source": [
    "## Built-in functions"
   ]
  },
  {
   "cell_type": "markdown",
   "metadata": {},
   "source": [
    "### map, filter, lambda "
   ]
  },
  {
   "cell_type": "code",
   "execution_count": 100,
   "metadata": {
    "scrolled": true
   },
   "outputs": [
    {
     "name": "stdout",
     "output_type": "stream",
     "text": [
      "Help on class map in module builtins:\n",
      "\n",
      "class map(object)\n",
      " |  map(func, *iterables) --> map object\n",
      " |  \n",
      " |  Make an iterator that computes the function using arguments from\n",
      " |  each of the iterables.  Stops when the shortest iterable is exhausted.\n",
      " |  \n",
      " |  Methods defined here:\n",
      " |  \n",
      " |  __getattribute__(self, name, /)\n",
      " |      Return getattr(self, name).\n",
      " |  \n",
      " |  __iter__(self, /)\n",
      " |      Implement iter(self).\n",
      " |  \n",
      " |  __next__(self, /)\n",
      " |      Implement next(self).\n",
      " |  \n",
      " |  __reduce__(...)\n",
      " |      Return state information for pickling.\n",
      " |  \n",
      " |  ----------------------------------------------------------------------\n",
      " |  Static methods defined here:\n",
      " |  \n",
      " |  __new__(*args, **kwargs) from builtins.type\n",
      " |      Create and return a new object.  See help(type) for accurate signature.\n",
      "\n",
      "None\n"
     ]
    }
   ],
   "source": [
    "print(help(map))"
   ]
  },
  {
   "cell_type": "code",
   "execution_count": 107,
   "metadata": {},
   "outputs": [],
   "source": [
    "# Declare a right_words function that accepts a list of words and a number.\n",
    "# Return a new list with the words that have a length equal to the number.\n",
    "# Do NOT use list comprehension.\n",
    "\n",
    "def right_words(words, number):\n",
    "    return list(filter(lambda word: len(word) == number, words))\n",
    "    \n",
    "# EXAMPLES:\n",
    "# right_words(['cat', 'dog', 'bean', 'ace', 'heart'], 3)     => ['cat', 'dog', 'ace']\n",
    "# right_words(['cat', 'dog', 'bean', 'ace', 'heart'], 5)     => ['heart']\n",
    "# right_words([], 4)                                         => []"
   ]
  },
  {
   "cell_type": "code",
   "execution_count": 108,
   "metadata": {},
   "outputs": [
    {
     "name": "stdout",
     "output_type": "stream",
     "text": [
      "['cat', 'dog', 'ace']\n",
      "['heart']\n",
      "[]\n"
     ]
    }
   ],
   "source": [
    "print(right_words(['cat', 'dog', 'bean', 'ace', 'heart'], 3))\n",
    "print(right_words(['cat', 'dog', 'bean', 'ace', 'heart'], 5))\n",
    "print(right_words([], 4)  )"
   ]
  },
  {
   "cell_type": "code",
   "execution_count": 115,
   "metadata": {},
   "outputs": [],
   "source": [
    "# Declare an only_odds function.\n",
    "# It should accept a list of whole numbers.\n",
    "# It should return a list with only the odd numbers from the original list.\n",
    "# Do NOT use list comprehension.\n",
    "\n",
    "def only_odds(whole_numbers):\n",
    "    return list((filter(lambda ele: ele % 2 != 0, whole_numbers)))\n",
    "\n",
    "# EXAMPLES:\n",
    "# only_odds([1, 3, 5, 6, 7, 8])      =>  [1, 3, 5, 7]\n",
    "# only_odds([2, 4, 6, 8])            =>  []"
   ]
  },
  {
   "cell_type": "code",
   "execution_count": 116,
   "metadata": {},
   "outputs": [
    {
     "name": "stdout",
     "output_type": "stream",
     "text": [
      "[1, 3, 5, 7]\n",
      "[]\n"
     ]
    }
   ],
   "source": [
    "print(only_odds([1, 3, 5, 6, 7, 8]))\n",
    "print(only_odds([2, 4, 6, 8]))\n"
   ]
  },
  {
   "cell_type": "code",
   "execution_count": 117,
   "metadata": {},
   "outputs": [],
   "source": [
    "# Declare a count_of_a function that accepts a list of strings.\n",
    "# It should return a list with counts of how many “a” characters appear per string.\n",
    "# Do NOT use list comprehension.\n",
    "def count_of_a(strings):\n",
    "    return list(map(lambda char: char.count(\"a\"), strings))\n",
    "# EXAMPLES:\n",
    "# count_of_a([\"alligator\", \"aardvark\", \"albatross\"])    => [2, 3, 2]\n",
    "# count_of_a([\"plywood\"])                               => [0]\n",
    "# count_of_a([])                                        => []"
   ]
  },
  {
   "cell_type": "code",
   "execution_count": 118,
   "metadata": {},
   "outputs": [
    {
     "name": "stdout",
     "output_type": "stream",
     "text": [
      "[2, 3, 2]\n",
      "[0]\n",
      "[]\n"
     ]
    }
   ],
   "source": [
    "print(count_of_a([\"alligator\", \"aardvark\", \"albatross\"]))\n",
    "print(count_of_a([\"plywood\"]))\n",
    "print(count_of_a([]))"
   ]
  },
  {
   "cell_type": "code",
   "execution_count": 3,
   "metadata": {},
   "outputs": [],
   "source": [
    "# Declare a greater_sum function that accepts two lists of numbers.\n",
    "# It should return the list with the greatest sum.\n",
    "# You can assume the lists will always have different sums.\n",
    "\n",
    "def greater_sum(l1, l2):\n",
    "    return l1 if sum(l1) > sum(l2) else l2\n",
    "\n",
    "# EXAMPLES\n",
    "# greater_sum([1, 2, 3], [1, 2, 4]) => [1, 2, 4]\n",
    "# greater_sum([4, 5], [2, 3, 6])    => [2, 3, 6]\n",
    "# greater_sum([1], [])              => [1]"
   ]
  },
  {
   "cell_type": "code",
   "execution_count": 6,
   "metadata": {},
   "outputs": [
    {
     "name": "stdout",
     "output_type": "stream",
     "text": [
      "[1, 2, 4]\n",
      "[2, 3, 6]\n",
      "[1]\n"
     ]
    }
   ],
   "source": [
    "print(greater_sum([1, 2, 3], [1, 2, 4]))\n",
    "print(greater_sum([4, 5], [2, 3, 6]))\n",
    "print(greater_sum([1], []))"
   ]
  },
  {
   "cell_type": "code",
   "execution_count": 8,
   "metadata": {},
   "outputs": [],
   "source": [
    "# Declare a sum_difference function that accepts two lists of numbers.\n",
    "# It should return the difference between the sum of values in the first list and the second list\n",
    "\n",
    "def sum_difference(l1, l2):\n",
    "    return sum(l1) - sum(l2)\n",
    "\n",
    "# EXAMPLES\n",
    "# sum_difference([1, 2, 3], [1, 2, 4]) => 6 - 7 => -1\n",
    "# sum_difference([4, 5], [2, 3, 6])    => 9 - 11 => -2\n",
    "# sum_difference([1], [])              => 1"
   ]
  },
  {
   "cell_type": "code",
   "execution_count": 10,
   "metadata": {},
   "outputs": [
    {
     "name": "stdout",
     "output_type": "stream",
     "text": [
      "-1\n",
      "-2\n",
      "1\n"
     ]
    }
   ],
   "source": [
    "print(sum_difference([1, 2, 3], [1, 2, 4]))\n",
    "print(sum_difference([4, 5], [2, 3, 6]))\n",
    "print(sum_difference([1], []))"
   ]
  },
  {
   "cell_type": "code",
   "execution_count": 22,
   "metadata": {},
   "outputs": [
    {
     "data": {
      "text/plain": [
       "[11.902500000000002, 32.1489, 62.25209999999999]"
      ]
     },
     "execution_count": 22,
     "metadata": {},
     "output_type": "execute_result"
    }
   ],
   "source": [
    "\"\"\"\n",
    "Provide the code to get list of squares of the values using \n",
    "both (1) list comprehension and (2) the map function.\n",
    "\"\"\"\n",
    "def sq(values):\n",
    "\n",
    "    return [value **2 for value in values]\n",
    "\n",
    "sq(values = [3.45, 5.67, 7.89])\n"
   ]
  },
  {
   "cell_type": "code",
   "execution_count": 21,
   "metadata": {},
   "outputs": [
    {
     "data": {
      "text/plain": [
       "[11.902500000000002, 32.1489, 62.25209999999999]"
      ]
     },
     "execution_count": 21,
     "metadata": {},
     "output_type": "execute_result"
    }
   ],
   "source": [
    "def sq_f(values):\n",
    "    return list(map(lambda value: value **2, values))\n",
    "sq_f((values))"
   ]
  },
  {
   "cell_type": "code",
   "execution_count": 30,
   "metadata": {},
   "outputs": [],
   "source": [
    "# Declare a months tuple with the last 4 months of the year (September, October, November, December) as strings.\n",
    "# Make sure the first letter of each month is capitalized.\n",
    "\n",
    "months = (\"September\", \"October\", \"November\", \"December\")\n",
    "\n",
    "\n",
    "# Create a faves variable with a list of your 3 three favorite movies as strings. \n",
    "# Use the tuple function to convert the list to a tuple and save the result in a movies variable.\n",
    "\n",
    "faves = [\"Hitch\", \"Take the lead\", \"Hustle & Flow\"]\n",
    "movies = tuple(faves)\n",
    "\n",
    "# Create a numbers_a, numbers_b, and numbers_c tuple. \n",
    "# Each tuple should contain 3 integers. \n",
    "# Declare an all_numbers tuple containing these three tuples.\n",
    "\n",
    "numbers_a = (1, 2, 3)\n",
    "numbers_b = (4, 6, 8)\n",
    "numbers_c = (5, 7, 9)\n",
    "all_numbers = (numbers_a, numbers_b, numbers_c)\n"
   ]
  },
  {
   "cell_type": "markdown",
   "metadata": {},
   "source": [
    "## Tuple"
   ]
  },
  {
   "cell_type": "code",
   "execution_count": 39,
   "metadata": {},
   "outputs": [
    {
     "name": "stdout",
     "output_type": "stream",
     "text": [
      "(6, 4)\n",
      "(0, 9)\n",
      "(12, 0)\n"
     ]
    }
   ],
   "source": [
    "# Given the tuple below, destructure the three values and\n",
    "# assign them to position, city and salary variables\n",
    "# Do NOT use index positions (i.e. job_opening[1])\n",
    "job_opening = (\"Software Engineer\", \"New York City\", 100000)\n",
    "\n",
    "position, city, salary = job_opening\n",
    "\n",
    "# Given the tuple below, \n",
    "# - destructure the first value and assign it to a street variable\n",
    "# - destructure the last value and assign it to a zip_code variable\n",
    "# - destructure the middle two values into a list and assign it to a city_and_state variable\n",
    "address = (\"35 Elm Street\", \"San Francisco\", \"CA\", \"94107\")\n",
    "street, *city_and_state ,zip_code = address\n",
    "\n",
    "# Declare a sum_of_evens_and_odds function that accepts a tuple of numbers.\n",
    "# It should return a tuple with two numeric values:\n",
    "# -- the sum of the even numbers\n",
    "# -- the sum of the odd numbers.\n",
    "\n",
    "def sum_of_evens_and_odds(numbers):\n",
    "    sum_even = 0\n",
    "    sum_odd = 0\n",
    "    for num in numbers:\n",
    "        if num % 2 == 0:\n",
    "            sum_even += num\n",
    "        if num % 2 == 1:\n",
    "            sum_odd += num\n",
    "    return sum_even, sum_odd \n",
    "\n",
    "#\n",
    "# sum_of_evens_and_odds((1, 2, 3, 4))   => (6, 4)\n",
    "# sum_of_evens_and_odds((1, 3, 5))      => (0, 9)\n",
    "# sum_of_evens_and_odds((2, 4, 6))      => (12, 0)\n",
    "\n",
    "print(sum_of_evens_and_odds((1, 2, 3, 4)))\n",
    "print(sum_of_evens_and_odds((1, 3, 5)))\n",
    "print(sum_of_evens_and_odds((2, 4, 6)) )"
   ]
  },
  {
   "cell_type": "code",
   "execution_count": 1,
   "metadata": {},
   "outputs": [
    {
     "data": {
      "text/plain": [
       "['__add__',\n",
       " '__class__',\n",
       " '__contains__',\n",
       " '__delattr__',\n",
       " '__dir__',\n",
       " '__doc__',\n",
       " '__eq__',\n",
       " '__format__',\n",
       " '__ge__',\n",
       " '__getattribute__',\n",
       " '__getitem__',\n",
       " '__getnewargs__',\n",
       " '__gt__',\n",
       " '__hash__',\n",
       " '__init__',\n",
       " '__init_subclass__',\n",
       " '__iter__',\n",
       " '__le__',\n",
       " '__len__',\n",
       " '__lt__',\n",
       " '__mul__',\n",
       " '__ne__',\n",
       " '__new__',\n",
       " '__reduce__',\n",
       " '__reduce_ex__',\n",
       " '__repr__',\n",
       " '__rmul__',\n",
       " '__setattr__',\n",
       " '__sizeof__',\n",
       " '__str__',\n",
       " '__subclasshook__',\n",
       " 'count',\n",
       " 'index']"
      ]
     },
     "execution_count": 1,
     "metadata": {},
     "output_type": "execute_result"
    }
   ],
   "source": [
    "dir(tuple)"
   ]
  },
  {
   "cell_type": "code",
   "execution_count": 2,
   "metadata": {},
   "outputs": [
    {
     "data": {
      "text/plain": [
       "['__add__',\n",
       " '__class__',\n",
       " '__contains__',\n",
       " '__delattr__',\n",
       " '__delitem__',\n",
       " '__dir__',\n",
       " '__doc__',\n",
       " '__eq__',\n",
       " '__format__',\n",
       " '__ge__',\n",
       " '__getattribute__',\n",
       " '__getitem__',\n",
       " '__gt__',\n",
       " '__hash__',\n",
       " '__iadd__',\n",
       " '__imul__',\n",
       " '__init__',\n",
       " '__init_subclass__',\n",
       " '__iter__',\n",
       " '__le__',\n",
       " '__len__',\n",
       " '__lt__',\n",
       " '__mul__',\n",
       " '__ne__',\n",
       " '__new__',\n",
       " '__reduce__',\n",
       " '__reduce_ex__',\n",
       " '__repr__',\n",
       " '__reversed__',\n",
       " '__rmul__',\n",
       " '__setattr__',\n",
       " '__setitem__',\n",
       " '__sizeof__',\n",
       " '__str__',\n",
       " '__subclasshook__',\n",
       " 'append',\n",
       " 'clear',\n",
       " 'copy',\n",
       " 'count',\n",
       " 'extend',\n",
       " 'index',\n",
       " 'insert',\n",
       " 'pop',\n",
       " 'remove',\n",
       " 'reverse',\n",
       " 'sort']"
      ]
     },
     "execution_count": 2,
     "metadata": {},
     "output_type": "execute_result"
    }
   ],
   "source": [
    "dir(list)"
   ]
  },
  {
   "cell_type": "code",
   "execution_count": 7,
   "metadata": {},
   "outputs": [
    {
     "name": "stdout",
     "output_type": "stream",
     "text": [
      "['jan', 3]\n",
      "3.142\n",
      "True\n",
      "5.0\n"
     ]
    }
   ],
   "source": [
    "\"\"\"\n",
    "Declare a tuple with 5 elements. The values should be of a variety of different types.\n",
    "\n",
    "Unpack the first two elements into a list assigned to a variable.\n",
    "\n",
    "Unpack the remaining three elements into three separate variables.\n",
    "\"\"\"\n",
    "elements = (\"jan\", 3, 3.142, True, 5.0)\n",
    "*args, var1, var2, var3 = elements\n",
    "print(args)\n",
    "print(var1)\n",
    "print(var2)\n",
    "print(var3)"
   ]
  },
  {
   "cell_type": "code",
   "execution_count": 27,
   "metadata": {},
   "outputs": [],
   "source": [
    "a = 1\n",
    "b = a\n",
    "\n",
    "a = 2\n"
   ]
  },
  {
   "cell_type": "code",
   "execution_count": 25,
   "metadata": {},
   "outputs": [
    {
     "name": "stdout",
     "output_type": "stream",
     "text": [
      "True\n"
     ]
    }
   ],
   "source": [
    "print(a == b )"
   ]
  },
  {
   "cell_type": "code",
   "execution_count": 26,
   "metadata": {},
   "outputs": [
    {
     "name": "stdout",
     "output_type": "stream",
     "text": [
      "True\n"
     ]
    }
   ],
   "source": [
    "print(a is b)"
   ]
  },
  {
   "cell_type": "code",
   "execution_count": 28,
   "metadata": {},
   "outputs": [
    {
     "name": "stdout",
     "output_type": "stream",
     "text": [
      "2\n"
     ]
    }
   ],
   "source": [
    "print(a)"
   ]
  },
  {
   "cell_type": "code",
   "execution_count": 30,
   "metadata": {},
   "outputs": [
    {
     "name": "stdout",
     "output_type": "stream",
     "text": [
      "1\n"
     ]
    }
   ],
   "source": [
    "print(b)"
   ]
  },
  {
   "cell_type": "code",
   "execution_count": 31,
   "metadata": {},
   "outputs": [
    {
     "name": "stdout",
     "output_type": "stream",
     "text": [
      "False\n"
     ]
    }
   ],
   "source": [
    "print(a is b)"
   ]
  },
  {
   "cell_type": "markdown",
   "metadata": {},
   "source": [
    "### Section 16: Dictionary"
   ]
  },
  {
   "cell_type": "code",
   "execution_count": 2,
   "metadata": {},
   "outputs": [],
   "source": [
    "# Create an empty dictionary and assign it to the variable empty.\n",
    "empty = {}\n",
    "# Create a dictionary with three key-value pairs. \n",
    "# The keys should be strings and the values should be integer values. \n",
    "# Assign the dictionary to a my_dict variable.\n",
    "my_dict = {\n",
    "    \"first_num\": 205,\n",
    "    \"second_num\": 230,\n",
    "    \"third_num\": 233\n",
    "}\n",
    "# A dictionary’s keys can be any immutable data structure. \n",
    "# Create a dictionary with two key-value pairs and assign it to\n",
    "# a winning_lottery_numbers variable. \n",
    "# Both of the keys should be tuples. \n",
    "# One of the values should be True, the other value should be False.\n",
    "winning_lottery_numbers = {\n",
    "    (23, 34, 45): True,\n",
    "    (23, 34): False\n",
    "    \n",
    "}"
   ]
  },
  {
   "cell_type": "code",
   "execution_count": 6,
   "metadata": {},
   "outputs": [
    {
     "name": "stdout",
     "output_type": "stream",
     "text": [
      "{'Sherlock Holmes': 0, 'Hercule Poirot': 1, 'Nancy Drew': 2}\n"
     ]
    }
   ],
   "source": [
    "# Define a to_dictionary function that accepts a list of strings. \n",
    "# The function should return a dictionary where the keys are the strings \n",
    "# and the values are their original index positions in the list.\n",
    "def to_dictionary(strings):\n",
    "    my_dict = {}\n",
    "    for idx, word in enumerate(strings):\n",
    "        my_dict[word] = idx\n",
    "    return my_dict\n",
    "            \n",
    "# EXAMPLE:\n",
    "detectives = [\"Sherlock Holmes\", \"Hercule Poirot\", \"Nancy Drew\"]\n",
    "# to_dictionary(detectives) => {'Sherlock Holmes': 0, 'Hercule Poirot': 1, 'Nancy Drew': 2}\n",
    "print(to_dictionary(detectives))"
   ]
  },
  {
   "cell_type": "code",
   "execution_count": 113,
   "metadata": {},
   "outputs": [],
   "source": [
    "# Method 1\n",
    "import numpy as np\n",
    "from collections import OrderedDict \n",
    "from collections import defaultdict\n",
    "\n",
    "# Define a length_counts function that accepts a list of strings. \n",
    "# The function should return a dictionary where the keys represent\n",
    "# length and the values represent how many strings have that length.\n",
    "def length_counts(strings):\n",
    "    my_dict = {}\n",
    "    \n",
    "    for string in strings:\n",
    "       \n",
    "        str_len = (len(string))\n",
    "        if str_len not in my_dict:\n",
    "            my_dict[str_len] = 1\n",
    "        else:\n",
    "            my_dict[str_len] += 1\n",
    "    return my_dict\n",
    "                \n",
    "       \n",
    "    \n",
    "      #return my_dict[l] = count      \n",
    "# EXAMPLE:\n",
    "sa_countries = [\"Brazil\", \"Venezuela\", \"Argentina\", \"Ecuador\", \"Bolivia\", \"Peru\"]\n",
    "# length_counts(sa_countries) => # {6: 1, 9: 2, 7: 2, 4: 1}\n",
    "# There is 1 string with 6 letters, 2 strings with 9 letters, \n",
    "# 2 strings with 7 letters, and 1 string with 4 letters."
   ]
  },
  {
   "cell_type": "code",
   "execution_count": 114,
   "metadata": {},
   "outputs": [
    {
     "name": "stdout",
     "output_type": "stream",
     "text": [
      "{6: 1, 9: 2, 7: 2, 4: 1}\n"
     ]
    }
   ],
   "source": [
    "print(length_counts(sa_countries))"
   ]
  },
  {
   "cell_type": "code",
   "execution_count": 120,
   "metadata": {},
   "outputs": [],
   "source": [
    "# Method 2\n",
    "import numpy as np\n",
    "from collections import OrderedDict \n",
    "from collections import defaultdict\n",
    "\n",
    "# Define a length_counts function that accepts a list of strings. \n",
    "# The function should return a dictionary where the keys represent\n",
    "# length and the values represent how many strings have that length.\n",
    "def length_counts(strings):\n",
    "    my_dict = defaultdict(lambda:0)\n",
    "    \n",
    "    for string in strings:\n",
    "        str_len = int(len(string))\n",
    "        my_dict[str_len] += 1\n",
    "    return my_dict\n",
    "                \n",
    "       \n",
    "    \n",
    "      #return my_dict[l] = count      \n",
    "# EXAMPLE:\n",
    "sa_countries = [\"Brazil\", \"Venezuela\", \"Argentina\", \"Ecuador\", \"Bolivia\", \"Peru\"]\n",
    "# length_counts(sa_countries) => # {6: 1, 9: 2, 7: 2, 4: 1}\n",
    "# There is 1 string with 6 letters, 2 strings with 9 letters, \n",
    "# 2 strings with 7 letters, and 1 string with 4 letters."
   ]
  },
  {
   "cell_type": "code",
   "execution_count": 118,
   "metadata": {},
   "outputs": [
    {
     "name": "stdout",
     "output_type": "stream",
     "text": [
      "defaultdict(<function length_counts.<locals>.<lambda> at 0x7f7db49f9d90>, {6: 1, 9: 2, 7: 2, 4: 1})\n"
     ]
    }
   ],
   "source": [
    "print(length_counts(sa_countries))"
   ]
  },
  {
   "cell_type": "code",
   "execution_count": 13,
   "metadata": {},
   "outputs": [],
   "source": [
    "# Declare a delete_keys function that accepts two arguments:\n",
    "# a dictionary and a list of strings. \n",
    "# For each string in the list, if the string exists as a dictionary key, \n",
    "# delete the key-value pair from the dictionary. \n",
    "#\n",
    "# If the string does not exist as a dictionary key, avoid an error. \n",
    "# The return value should be the modified dictionary object.\n",
    "def delete_keys(my_dict, strings):\n",
    "    \n",
    "    for string in strings:\n",
    "        if string in my_dict:\n",
    "            my_dict.pop(string)\n",
    "    return my_dict\n",
    "        \n",
    "\n",
    "\n",
    "# EXAMPLE:\n",
    "# my_dict = {\n",
    "#   \"A\": 1,\n",
    "#   \"B\": 2,\n",
    "#   \"C\": 3\n",
    "# }\n",
    "#\n",
    "# strings = [\"A\", \"C\"]\n",
    "# delete_keys(my_dict, strings) => {'B': 2}"
   ]
  },
  {
   "cell_type": "code",
   "execution_count": 14,
   "metadata": {},
   "outputs": [],
   "source": [
    "my_dict = {\n",
    "    \"A\": 1,\n",
    "    \"B\": 2,\n",
    "    \"C\": 3\n",
    "}\n",
    "strings = [\"A\", \"C\"]"
   ]
  },
  {
   "cell_type": "code",
   "execution_count": 15,
   "metadata": {},
   "outputs": [
    {
     "name": "stdout",
     "output_type": "stream",
     "text": [
      "{'B': 2}\n"
     ]
    }
   ],
   "source": [
    "print(delete_keys(my_dict, strings))"
   ]
  },
  {
   "cell_type": "code",
   "execution_count": 17,
   "metadata": {},
   "outputs": [],
   "source": [
    "nba_finals = {\n",
    "\n",
    "  \"Game 1\": {\n",
    "\n",
    "    \"date\": \"05/05/2019\",\n",
    "\n",
    "    \"location\": \"San Francisco\",\n",
    "\n",
    "    \"statistics\": {\n",
    "\n",
    "      \"points\": 200,\n",
    "\n",
    "      \"rebounds\": 20,\n",
    "\n",
    "      \"assists\": 25\n",
    "\n",
    "    }\n",
    "\n",
    "  }\n",
    "\n",
    "}"
   ]
  },
  {
   "cell_type": "code",
   "execution_count": 18,
   "metadata": {},
   "outputs": [
    {
     "name": "stdout",
     "output_type": "stream",
     "text": [
      "20\n"
     ]
    }
   ],
   "source": [
    "print(nba_finals[\"Game 1\"][\"statistics\"][\"rebounds\"])"
   ]
  },
  {
   "cell_type": "code",
   "execution_count": 19,
   "metadata": {},
   "outputs": [
    {
     "data": {
      "text/plain": [
       "30"
      ]
     },
     "execution_count": 19,
     "metadata": {},
     "output_type": "execute_result"
    }
   ],
   "source": [
    "mystery = {\n",
    "\n",
    "  \"a\": 2\n",
    "\n",
    "}\n",
    "\n",
    "\n",
    "\n",
    "mystery.setdefault(\"A\", 5)\n",
    "\n",
    "mystery.setdefault(\"a\", 10)\n",
    "\n",
    "mystery.setdefault(\"B\", 30)\n",
    "\n",
    "mystery.setdefault(\"B\", 40)"
   ]
  },
  {
   "cell_type": "code",
   "execution_count": 20,
   "metadata": {},
   "outputs": [
    {
     "name": "stdout",
     "output_type": "stream",
     "text": [
      "{'a': 2, 'A': 5, 'B': 30}\n"
     ]
    }
   ],
   "source": [
    "print(mystery)"
   ]
  },
  {
   "cell_type": "code",
   "execution_count": 21,
   "metadata": {},
   "outputs": [],
   "source": [
    "# Declare an invert function that accepts a dictionary object. \n",
    "# The function should return a new dictionary where the keys and values from the original dictionary are inverted. \n",
    "# Each key should now be a value, and each value should be a key. \n",
    "# Assume both the keys and values of the dictionary are immutable.\n",
    "#\n",
    "# EXAMPLE:\n",
    "# my_dict = {\n",
    "#   \"A\": \"B\", \n",
    "#   \"C\": \"D\",\n",
    "#   \"E\": \"F\"\n",
    "# }\n",
    "#\n",
    "# invert(my_dict) => {'B': 'A', 'D': 'C', 'F': 'E'}"
   ]
  },
  {
   "cell_type": "code",
   "execution_count": 25,
   "metadata": {},
   "outputs": [],
   "source": [
    "def invert(my_dict):\n",
    "    temp = {}\n",
    "    for key, value in my_dict.items():\n",
    "        if key in my_dict:\n",
    "            temp[value] = key\n",
    "    return temp  "
   ]
  },
  {
   "cell_type": "code",
   "execution_count": 26,
   "metadata": {},
   "outputs": [
    {
     "data": {
      "text/plain": [
       "{'B': 'A', 'D': 'C', 'F': 'E'}"
      ]
     },
     "execution_count": 26,
     "metadata": {},
     "output_type": "execute_result"
    }
   ],
   "source": [
    "my_dict = {\n",
    "  \"A\": \"B\", \n",
    "  \"C\": \"D\",\n",
    "  \"E\": \"F\"\n",
    "}\n",
    "\n",
    "invert(my_dict) #=> {'B': 'A', 'D': 'C', 'F': 'E'}"
   ]
  },
  {
   "cell_type": "code",
   "execution_count": 88,
   "metadata": {},
   "outputs": [
    {
     "data": {
      "text/plain": [
       "{'B': 'A', 'D': 'C', 'F': 'E'}"
      ]
     },
     "execution_count": 88,
     "metadata": {},
     "output_type": "execute_result"
    }
   ],
   "source": [
    "# Method: dictionary comprehension \n",
    "another_dict = {\n",
    "  \"A\": \"B\", \n",
    "  \"C\": \"D\",\n",
    "  \"E\": \"F\"\n",
    "}\n",
    "\n",
    "def invert_dict(my_dict):\n",
    "    return {value:key for key, value in my_dict.items()}\n",
    "invert_dict(another_dict)"
   ]
  },
  {
   "cell_type": "code",
   "execution_count": 59,
   "metadata": {},
   "outputs": [],
   "source": [
    "# Declare a count_of_value function that accepts a dictionary and an integer.\n",
    "# It should return a count of the number of times the integer appears \n",
    "# as a value among the dictionary’s values.\n",
    "\n",
    "def count_of_value(my_dict, number):\n",
    "    count = 0\n",
    "    for key, value in my_dict.items():\n",
    "        \n",
    "        if value == number:\n",
    "            count += 1\n",
    "            \n",
    "    return count\n",
    "        \n",
    "    \n",
    "# EXAMPLE:\n",
    "my_dict = { \"a\" : 5, \"b\" : 3, \"c\" : 5 }\n",
    "#\n",
    "# count_of_value(my_dict, 5) => 2\n",
    "# count_of_value(my_dict, 3) => 1"
   ]
  },
  {
   "cell_type": "code",
   "execution_count": 64,
   "metadata": {},
   "outputs": [
    {
     "data": {
      "text/plain": [
       "2"
      ]
     },
     "execution_count": 64,
     "metadata": {},
     "output_type": "execute_result"
    }
   ],
   "source": [
    "count_of_value(my_dict, 5)"
   ]
  },
  {
   "cell_type": "code",
   "execution_count": 72,
   "metadata": {},
   "outputs": [
    {
     "name": "stdout",
     "output_type": "stream",
     "text": [
      "5\n",
      "15\n"
     ]
    }
   ],
   "source": [
    "# Declare a sum_of_values function that accepts a dictionary and a list of strings.\n",
    "# The dictionary will have keys of strings and values of numbers.\n",
    "#\n",
    "# The function should return the sum of values for dictionary \n",
    "# keys that are also found in the list.\n",
    "#\n",
    "# NOTE: sum is a reserved keyword in Python. Don’t use it as a variable name.\n",
    "\n",
    "def sum_of_values(my_dict, strings):\n",
    "    total = 0\n",
    "    for key, value in my_dict.items():\n",
    "        if key in strings:\n",
    "            total += value\n",
    "    return total\n",
    "# EXAMPLES:\n",
    "my_dict = { \"a\": 5, \"b\": 3, \"c\": 10 }\n",
    "#\n",
    "# sum_of_values(my_dict, [\"a\"])            => 5\n",
    "# sum_of_values(my_dict, [\"a\", \"c\"])       => 15\n",
    "# sum_of_values(my_dict, [\"a\", \"c\", \"b\"])  => 18\n",
    "# sum_of_values(my_dict, [\"z\"])            => 0\n",
    "\n",
    "print(sum_of_values(my_dict, [\"a\"]))\n",
    "print(sum_of_values(my_dict, [\"a\", \"c\"]) )"
   ]
  },
  {
   "cell_type": "markdown",
   "metadata": {},
   "source": [
    "### Blessing's solution"
   ]
  },
  {
   "cell_type": "code",
   "execution_count": 73,
   "metadata": {},
   "outputs": [
    {
     "data": {
      "text/plain": [
       "{'a': 0, 'b': 1, 'c': 2, 'd': 3, 'e': 4}"
      ]
     },
     "execution_count": 73,
     "metadata": {},
     "output_type": "execute_result"
    }
   ],
   "source": [
    "# Define a to_dictionary function that accepts a list of strings. \n",
    "# The function should return a dictionary where the keys are the strings \n",
    "# and the values are their original index positions in the list.\n",
    "def to_dictionary(s):\n",
    "    key_list = []\n",
    "    value_list = []\n",
    "    for i in range(len(s)):\n",
    "        keys = s[i]\n",
    "        values = i        \n",
    "        key_list.append(keys)\n",
    "        value_list.append(i)\n",
    "        \n",
    "    #print(key_list)\n",
    "    #print(value_list)\n",
    "    \n",
    "    #return dict(zip((key_list,value_list)))   <--- Your error\n",
    "    \n",
    "    return (dict(zip(key_list, value_list)))  # <--- my little correction\n",
    "to_dictionary(['a','b','c','d','e'])"
   ]
  },
  {
   "cell_type": "markdown",
   "metadata": {},
   "source": [
    "### More exercises on dictionary"
   ]
  },
  {
   "cell_type": "code",
   "execution_count": 79,
   "metadata": {},
   "outputs": [
    {
     "name": "stdout",
     "output_type": "stream",
     "text": [
      "['A', 'D']\n"
     ]
    }
   ],
   "source": [
    "# Declare a common_elements function that accepts a dictionary\n",
    "# It should return a list with all of the elements that are found\n",
    "# as both a key and a value in the dictionary\n",
    "#\n",
    "# HINT: Use the in operation to check for inclusion in a view or list object\n",
    "\n",
    "def common_elements(my_dict):\n",
    "    common = []\n",
    "    for key, value in my_dict.items():\n",
    "        if key in my_dict.keys() and key in my_dict.values():\n",
    "            common.append(key)\n",
    "#         if value in my_dict.keys() and value in my_dict.values():\n",
    "#             common.append(value)\n",
    "    return common\n",
    "\n",
    "# EXAMPLE:\n",
    "my_dict = {\n",
    "  \"A\": \"K\",\n",
    "  \"B\": \"D\",\n",
    "  \"C\": \"A\",\n",
    "  \"D\": \"Z\"\n",
    "}\n",
    "#\n",
    "# common_elements(my_dict) => [\"A\", \"D\"]\n",
    "\n",
    "print(common_elements(my_dict))"
   ]
  },
  {
   "cell_type": "code",
   "execution_count": 83,
   "metadata": {},
   "outputs": [],
   "source": [
    "# Assign a list of four dictionaries to a \"complexity\" variable below\n",
    "\n",
    "# The first and third dictionaries should have two key-value pairs\n",
    "# For those dictionaries, the keys should be strings and the values should be Booleans\n",
    "\n",
    "# The second and fourth dictionaries should have three key-value pairs\n",
    "# For those dictionaries, the keys shoulds be floats and the values should be list of strings. \n",
    "# The lists can be of any length.\n",
    "\n",
    "complexity = [\n",
    "    {\n",
    "        \"age\": 23 == 23.0,\n",
    "        \"weight\": 65 > 60\n",
    "    },\n",
    "    \n",
    "    {\n",
    "        2.0: [\"Germany\", \"France\"],\n",
    "        2.1: [\"Machine Intelligence\", \"Computer Science\"],\n",
    "        2.2: [\"Bordes\", \"Amos\"]\n",
    "    },\n",
    "    \n",
    "    {\n",
    "        \"shoe\": 45 != \"45\",\n",
    "        \"waist\": 32 < 33\n",
    "    },\n",
    "    \n",
    "    {\n",
    "        4.0: [\"NLP\", \"Data modelling\"],\n",
    "        4.1: [\"Computer\", \"Notebook\"],\n",
    "        4.3: [\"Library\", \"Cafeteria\"]\n",
    "    }\n",
    "]\n"
   ]
  },
  {
   "cell_type": "code",
   "execution_count": 87,
   "metadata": {},
   "outputs": [
    {
     "name": "stdout",
     "output_type": "stream",
     "text": [
      "False\n"
     ]
    }
   ],
   "source": [
    "# Declare a plenty_of_arguments function that accepts two parameters (a and b)\n",
    "# and an additional **kwargs parameter.\n",
    "#\n",
    "# The function should return True if the sum of a, b, and the values of \n",
    "# **kwargs is greater than 100. It should return False otherwise.\n",
    "#\n",
    "# EXAMPLES:\n",
    "# plenty_of_arguments(20, 30)                          => False\n",
    "# plenty_of_arguments(a = 50, b = 75)                  => True\n",
    "# plenty_of_arguments(a = 50, b = 25, c = 50)          => True\n",
    "# plenty_of_arguments(a = 25, b = 25, c = 25, d = 25)  => False\n",
    "# plenty_of_arguments(a = 25, b = 25, c = 25, d = 26)  => True\n",
    "\n",
    "def plenty_of_arguments(a, b, **kwargs):\n",
    "    return True if (a + b + sum(kwargs.values())) > 100 else False  \n",
    "print(plenty_of_arguments(20, 30))   "
   ]
  },
  {
   "cell_type": "code",
   "execution_count": 89,
   "metadata": {},
   "outputs": [
    {
     "name": "stdout",
     "output_type": "stream",
     "text": [
      "{'French Fries': 300, 'Soda': 200}\n"
     ]
    }
   ],
   "source": [
    "\n",
    "prices = {\n",
    "  \"Big Mac\": 3.99,\n",
    "  \"French Fries\": 0.99,\n",
    "  \"Soda\": 0.99\n",
    "}\n",
    "\n",
    "calories = {\n",
    "  \"Big Mac\": 600,\n",
    "  \"French Fries\": 300,\n",
    "  \"Soda\": 200\n",
    "}\n",
    "\n",
    "\n",
    "cheap_options = {meal:calories[meal] for meal, price in prices.items() if price < 1}\n",
    "print(cheap_options)  # {'French Fries': 300, 'Soda': 200}\n"
   ]
  },
  {
   "cell_type": "code",
   "execution_count": 90,
   "metadata": {},
   "outputs": [],
   "source": [
    "# You are writing a Python program to model a remote control\n",
    "# for a television set. Declare a stations_to_numbers\n",
    "# function that accepts a dictionary. The keys will be\n",
    "# channel numbers and the values will be the station names.\n",
    "# For example...\n",
    "# channels = {\n",
    "#   2: \"CBS\",\n",
    "#   4: \"NBC\",\n",
    "#   5: \"FOX\",\n",
    "#   7: \"ABC\"\n",
    "# }\n",
    "# The stations_to_numbers function should return an\n",
    "# inverted dictionary where the keys are the station names\n",
    "# and the values are the channel numbers\n",
    "#\n",
    "# stations_to_numbers(channels) => {'CBS': 2, 'NBC': 4, 'FOX': 5, 'ABC': 7}\n",
    "\n",
    "def stations_to_numbers(channels):\n",
    "    return {station:number for number, station in channels.items()}\n",
    "    \n"
   ]
  },
  {
   "cell_type": "code",
   "execution_count": 91,
   "metadata": {},
   "outputs": [
    {
     "data": {
      "text/plain": [
       "{'CBS': 2, 'NBC': 4, 'FOX': 5, 'ABC': 7}"
      ]
     },
     "execution_count": 91,
     "metadata": {},
     "output_type": "execute_result"
    }
   ],
   "source": [
    "channels = {\n",
    "  2: \"CBS\",\n",
    "  4: \"NBC\",\n",
    "  5: \"FOX\",\n",
    "  7: \"ABC\"\n",
    "}\n",
    "stations_to_numbers(channels)"
   ]
  },
  {
   "cell_type": "code",
   "execution_count": 103,
   "metadata": {},
   "outputs": [],
   "source": [
    "# Declare a coaster_conversion function that accepts a dictionary\n",
    "# The keys of the dictionary will be strings representing roller coasters\n",
    "# The values will be the heights of each coaster in meters\n",
    "#\n",
    "# Return a new dictionary with the same keys.\n",
    "# The values should be the heights converted from meters to feet,\n",
    "# The final values (in feet) should also be rounded to the closest integer\n",
    "# HINT: 1 meter is equal to 3.28084 feet\n",
    "# HINT: The round function rounds a number to the nearest integer\n",
    "#\n",
    "# coasters = {\n",
    "#   \"Kingda Ka\": 139,\n",
    "#   \"Top Thrill Dragster\": 130,\n",
    "#   \"Superman: Escape From Krypton\": 126\n",
    "# }\n",
    "#\n",
    "# coaster_conversion(coasters) => {'Kingda Ka': 456, 'Top Thrill Dragster': 426, 'Superman: Escape From Krypton': 413}\n",
    "def coaster_conversion(coasters):\n",
    "    return {coaster:round(meters * 3.28084) for coaster, meters in coasters.items()}\n",
    "    "
   ]
  },
  {
   "cell_type": "code",
   "execution_count": 110,
   "metadata": {},
   "outputs": [
    {
     "data": {
      "text/plain": [
       "{'Kingda Ka': 456,\n",
       " 'Top Thrill Dragster': 427,\n",
       " 'Superman: Escape From Krypton': 413}"
      ]
     },
     "execution_count": 110,
     "metadata": {},
     "output_type": "execute_result"
    }
   ],
   "source": [
    "coasters = {\n",
    "  \"Kingda Ka\": 139,\n",
    "  \"Top Thrill Dragster\": 130,\n",
    "  \"Superman: Escape From Krypton\": 126\n",
    "}\n",
    "\n",
    "coaster_conversion(coasters)"
   ]
  },
  {
   "cell_type": "code",
   "execution_count": 116,
   "metadata": {},
   "outputs": [
    {
     "data": {
      "text/plain": [
       "{6: 216, 12: 1728}"
      ]
     },
     "execution_count": 116,
     "metadata": {},
     "output_type": "execute_result"
    }
   ],
   "source": [
    "# Given the list below, write a dictionary comprehension to return a dictionary, \n",
    "# where the keys are the numbers and the values are their cubes. \n",
    "# The dictionary should only use the numbers that are even.\n",
    "\n",
    "numbers = [3, 6, 7, 12, 15]\n",
    "def to_cube(numbers):\n",
    "    return {number:(number **3) for number in numbers if number%2==0}\n",
    "to_cube(numbers)"
   ]
  },
  {
   "cell_type": "markdown",
   "metadata": {},
   "source": [
    "## Section 19: Sets"
   ]
  },
  {
   "cell_type": "code",
   "execution_count": 4,
   "metadata": {},
   "outputs": [],
   "source": [
    "# Declare a set with 3 of your favorite movies as strings.\n",
    "# Assign it to a movies variable.\n",
    "\n",
    "movies = {\"Hustle & Flow\", \"Hitch\", \"Love does not cost a thing\"}\n",
    "\n",
    "# Declare a set with the first four months of the year as strings.\n",
    "# Assign it to a months variable.\n",
    "# Make sure the first letter of each month is capitalized.\n",
    "\n",
    "months = {\"January\", \"February\", \"March\", \"April\"}\n",
    "\n",
    "# Create an empty set and assign it to an empty variable.\n",
    "\n",
    "empty = set()\n",
    "\n",
    "# Define a remove_duplicates function that accepts a single list as an argument. \n",
    "# The function should return a list with all of the duplicates from the original list removed. \n",
    "# The order of elements in the returned list is irrelevant.\n",
    "\n",
    "def remove_duplicates(duplicates):\n",
    "    return list(set(duplicates))\n",
    "\n",
    "# EXAMPLES:\n",
    "# remove_duplicates([1, 2, 1, 2])  => [1, 2] or [2, 1]\n",
    "# remove_duplicates([1, 2, 3, 4])  => [1, 2, 3, 4] in some order"
   ]
  },
  {
   "cell_type": "code",
   "execution_count": 5,
   "metadata": {},
   "outputs": [
    {
     "name": "stdout",
     "output_type": "stream",
     "text": [
      "The Zen of Python, by Tim Peters\n",
      "\n",
      "Beautiful is better than ugly.\n",
      "Explicit is better than implicit.\n",
      "Simple is better than complex.\n",
      "Complex is better than complicated.\n",
      "Flat is better than nested.\n",
      "Sparse is better than dense.\n",
      "Readability counts.\n",
      "Special cases aren't special enough to break the rules.\n",
      "Although practicality beats purity.\n",
      "Errors should never pass silently.\n",
      "Unless explicitly silenced.\n",
      "In the face of ambiguity, refuse the temptation to guess.\n",
      "There should be one-- and preferably only one --obvious way to do it.\n",
      "Although that way may not be obvious at first unless you're Dutch.\n",
      "Now is better than never.\n",
      "Although never is often better than *right* now.\n",
      "If the implementation is hard to explain, it's a bad idea.\n",
      "If the implementation is easy to explain, it may be a good idea.\n",
      "Namespaces are one honking great idea -- let's do more of those!\n"
     ]
    }
   ],
   "source": [
    "import this"
   ]
  },
  {
   "cell_type": "markdown",
   "metadata": {},
   "source": [
    "## Functions"
   ]
  },
  {
   "cell_type": "code",
   "execution_count": 13,
   "metadata": {},
   "outputs": [
    {
     "name": "stdout",
     "output_type": "stream",
     "text": [
      "6\n",
      "6\n",
      "6\n"
     ]
    }
   ],
   "source": [
    "# Define an invoke_thrice function.\n",
    "# It should accept a single argument (which will be a function)\n",
    "# In its body, the invoke_thrice function should invoke\n",
    "# the function that's passed in exactly three times.\n",
    "\n",
    "def add_sum(a, b):\n",
    "    c = a + b\n",
    "    print(c)\n",
    "\n",
    "def invoke_thrice(func, a, b):\n",
    "    func(a, b)\n",
    "    func(a, b)\n",
    "    func(a, b)\n",
    "invoke_thrice(add_sum, 2, 4)\n",
    "    \n",
    "    \n",
    "    "
   ]
  },
  {
   "cell_type": "code",
   "execution_count": 52,
   "metadata": {},
   "outputs": [
    {
     "name": "stdout",
     "output_type": "stream",
     "text": [
      "<function outer.<locals>.inner at 0x7f880ce60620>\n"
     ]
    }
   ],
   "source": [
    "# Define an \"outer\" function that accepts no arguments\n",
    "# Inside the body of \"outer\", define an \"inner\" function\n",
    "# The \"inner\" function should return the value 5.\n",
    "# From \"outer\", return the uninvoked \"inner\" function\n",
    "\n",
    "def outer():\n",
    "    def inner():\n",
    "        val = 5\n",
    "        return val\n",
    "    return inner\n",
    "print(outer())"
   ]
  },
  {
   "cell_type": "code",
   "execution_count": 68,
   "metadata": {},
   "outputs": [
    {
     "name": "stdout",
     "output_type": "stream",
     "text": [
      "50\n"
     ]
    }
   ],
   "source": [
    "def multiply(a, b):\n",
    "\n",
    "    return a * b\n",
    "   \n",
    "\n",
    "\n",
    "def divide(a, b):\n",
    "\n",
    "    return a / b\n",
    "      \n",
    "\n",
    "\n",
    "\n",
    "def calculate(func, a, b):\n",
    "\n",
    "    return func(a, b)\n",
    "    \n",
    "\n",
    "\n",
    "\n",
    "print(calculate(multiply, 10, 5))"
   ]
  },
  {
   "cell_type": "code",
   "execution_count": 73,
   "metadata": {},
   "outputs": [
    {
     "name": "stdout",
     "output_type": "stream",
     "text": [
      "Hello\n"
     ]
    }
   ],
   "source": [
    "val = \"Hello\"\n",
    "def a():\n",
    "\n",
    "    def b():\n",
    "\n",
    "        def c():\n",
    "\n",
    "            return val\n",
    "\n",
    "        return c()\n",
    "\n",
    "    return b()\n",
    "\n",
    "\n",
    "\n",
    "print(a())\n",
    "\n"
   ]
  },
  {
   "cell_type": "code",
   "execution_count": 88,
   "metadata": {},
   "outputs": [
    {
     "name": "stdout",
     "output_type": "stream",
     "text": [
      "50\n",
      "50\n"
     ]
    }
   ],
   "source": [
    "# Define a global \"a\" variable assigned to the value 1\n",
    "\n",
    "\n",
    "# Declare a \"modify_a\" function that accepts a single argument.\n",
    "# It should overwrite the value of the a global variable with the argument\n",
    "a = 1\n",
    "def modify_a(val):\n",
    "    global a\n",
    "    a = val\n",
    "    return a\n",
    "    \n",
    "print(modify_a(50))\n",
    "print(a)\n",
    "\n",
    "    "
   ]
  },
  {
   "cell_type": "code",
   "execution_count": 101,
   "metadata": {},
   "outputs": [
    {
     "name": "stdout",
     "output_type": "stream",
     "text": [
      "PYTHON\n"
     ]
    }
   ],
   "source": [
    "import functools\n",
    "\n",
    "\n",
    "\n",
    "def uppercase(fn):\n",
    "\n",
    "    @functools.wraps(fn)\n",
    "\n",
    "    def wrapper(*args, **kwargs):\n",
    "\n",
    "        result = fn(*args, **kwargs).upper()\n",
    "        return result\n",
    "    \n",
    "    return wrapper\n",
    "\n",
    "\n",
    "\n",
    "@uppercase\n",
    "\n",
    "def concatenate(a, b):\n",
    "\n",
    "    \"\"\"Combines two strings together\"\"\"\n",
    "\n",
    "    return a + b\n",
    "\n",
    "\n",
    "\n",
    "print(concatenate(\"pyt\", \"hon\"))\n",
    "\n"
   ]
  },
  {
   "cell_type": "code",
   "execution_count": 103,
   "metadata": {},
   "outputs": [],
   "source": [
    "# Declare a Country class with an empty body.\n",
    "\n",
    "# Instantiate an object from the class and assign it to an “america\" variable.\n",
    "\n",
    "# Instantiate another object from the class and assign it to a “canada” variable.\n",
    "\n",
    "# Instantiate a third object from the class and assign it to a “mexico” variable.\n",
    "\n",
    "class Country():\n",
    "    pass\n",
    "\n",
    "america = Country()\n",
    "canada = Country()\n",
    "mexico = Country()\n",
    "\n",
    "# Declare a Superhero class with an empty body.\n",
    "\n",
    "# Instantiate an object from the class and assign it to an “spiderman\" variable.\n",
    "\n",
    "# Instantiate another object from the class and assign it to a “batman” variable.\n",
    "\n",
    "# Instantiate a third object from the class and assign it to a “superman” variable.\n",
    "\n",
    "class Superhero():\n",
    "    pass\n",
    "\n",
    "spiderman = Superhero()\n",
    "batman = Superhero()\n",
    "superman = Superhero()"
   ]
  },
  {
   "cell_type": "code",
   "execution_count": 3,
   "metadata": {},
   "outputs": [
    {
     "ename": "TypeError",
     "evalue": "__init__() missing 1 required positional argument: 'name'",
     "output_type": "error",
     "traceback": [
      "\u001b[0;31m---------------------------------------------------------------------------\u001b[0m",
      "\u001b[0;31mTypeError\u001b[0m                                 Traceback (most recent call last)",
      "\u001b[0;32m<ipython-input-3-2953aebeba60>\u001b[0m in \u001b[0;36m<module>\u001b[0;34m()\u001b[0m\n\u001b[1;32m     16\u001b[0m         \u001b[0mself\u001b[0m\u001b[0;34m.\u001b[0m\u001b[0mname\u001b[0m \u001b[0;34m=\u001b[0m \u001b[0mname\u001b[0m\u001b[0;34m\u001b[0m\u001b[0;34m\u001b[0m\u001b[0m\n\u001b[1;32m     17\u001b[0m \u001b[0;34m\u001b[0m\u001b[0m\n\u001b[0;32m---> 18\u001b[0;31m \u001b[0mrent\u001b[0m \u001b[0;34m=\u001b[0m \u001b[0mMusical\u001b[0m\u001b[0;34m(\u001b[0m\u001b[0;34m)\u001b[0m\u001b[0;34m\u001b[0m\u001b[0;34m\u001b[0m\u001b[0m\n\u001b[0m\u001b[1;32m     19\u001b[0m \u001b[0mmormon\u001b[0m \u001b[0;34m=\u001b[0m \u001b[0mMusical\u001b[0m\u001b[0;34m(\u001b[0m\u001b[0;34m\"Book of Mormon\"\u001b[0m\u001b[0;34m)\u001b[0m\u001b[0;34m\u001b[0m\u001b[0;34m\u001b[0m\u001b[0m\n\u001b[1;32m     20\u001b[0m \u001b[0mchicago\u001b[0m \u001b[0;34m=\u001b[0m \u001b[0mMusical\u001b[0m\u001b[0;34m(\u001b[0m\u001b[0;34m\"Chicago\"\u001b[0m\u001b[0;34m)\u001b[0m\u001b[0;34m\u001b[0m\u001b[0;34m\u001b[0m\u001b[0m\n",
      "\u001b[0;31mTypeError\u001b[0m: __init__() missing 1 required positional argument: 'name'"
     ]
    }
   ],
   "source": [
    "# Declare a Musical class that accepts a name parameter. \n",
    "# In the initialization process for an object, assign the\n",
    "# name parameter to a name attribute on the object.\n",
    "#\n",
    "# Instantiate a Musical object with the name “Rent” \n",
    "# and assign it to an “rent\" variable.\n",
    "#\n",
    "# Instantiate a second Musical object with the name “Book of Mormon\" \n",
    "# and assign it to a “mormon” variable.\n",
    "#\n",
    "# Instantiate a third object from the class with the name “Chicago\" \n",
    "# and assign it to a “chicago” variable.\n",
    "\n",
    "class Musical():\n",
    "    def __init__(self, name):\n",
    "        self.name = name\n",
    "        \n",
    "rent = Musical(\"Rent\")\n",
    "mormon = Musical(\"Book of Mormon\")\n",
    "chicago = Musical(\"Chicago\")\n",
    "    \n",
    "\n",
    "# Declare a Shape class that accepts a sides parameter. \n",
    "\n",
    "# In the initialization process for an object, assign the sides parameter to a sides attribute on the object.\n",
    "\n",
    "# Instantiate a Shape object with 3 sides and assign it to a “triangle\" variable.\n",
    "\n",
    "# Instantiate a Shape object with 4 sides and assign it to a “square\" variable.\n",
    "\n",
    "# Instantiate a Shape object with 10 sides and assign it to a “decagon\" variable.\n",
    "\n",
    "class Shape():\n",
    "    def __init__(self, sides):\n",
    "        self.sides = sides\n",
    "        \n",
    "triangle = Shape(3)\n",
    "square = Shape(4)\n",
    "decagon = Shape(10)\n",
    "    \n",
    "# Declare a Skyscraper class that accepts name and year parameters. \n",
    "\n",
    "# In the initialization process for an object, assign the name parameter to a name attribute \n",
    "# and the year parameter to a year attribute.\n",
    "\n",
    "# Instantiate a Skyscraper object with the name “Empire State Building”  and the year 1931. \n",
    "# Assign it to a “empire\" variable.\n",
    "\n",
    "# Instantiate a Skyscraper object with the name “One World Trade Center” and the year 2014. \n",
    "# Assign it to a “wtc\" variable.\n",
    "\n",
    "class Skyscraper():\n",
    "    def __init__(self, name, year):\n",
    "        self.name = name\n",
    "        self.year = year\n",
    "\n",
    "empire = Skyscraper(\"Empire State Building\", 1931)\n",
    "wtc = Skyscraper(\"One World Trade Center\", 2014)\n",
    "\n",
    "\n"
   ]
  },
  {
   "cell_type": "code",
   "execution_count": 2,
   "metadata": {},
   "outputs": [],
   "source": [
    "# Declare a Zombie class that accepts health and brains_eaten parameters. \n",
    "\n",
    "# In the initialization process for a Zombie object, assign the \n",
    "# two parameters to two attributes with the same name.\n",
    "#\n",
    "# If the instantiation does not pass a health parameter, \n",
    "# it should be assigned a default value of 100.\n",
    "#\n",
    "# If the instantiation does not pass a brains_eaten parameter, \n",
    "# it should be assigned a default value of 5.\n",
    "\n",
    "# Instantiate a Zombie object with 80 health and 5 brains eaten. \n",
    "# Assign it to a “bob” variable.\n",
    "#\n",
    "# Instantiate a Zombie object with 120 health and 3 brains eaten.\n",
    "# Assign it to a “sally” variable.\n",
    "#\n",
    "# Instantiate a Zombie object with no custom parameters.\n",
    "# Assign it to a “benjamin” variable.\n",
    "#\n",
    "# Practice instantiating the objects with both positional and keyword arguments.\n",
    "\n",
    "class Zombie():\n",
    "    def __init__(self, health=100, brains_eaten=5):\n",
    "        self.health = health\n",
    "        self.brains_eaten = brains_eaten\n",
    "\n",
    "bob = Zombie(80, 50)\n",
    "sally = Zombie(120, 3)\n",
    "benjamin = Zombie()\n",
    "\n",
    "bob = Zombie(health=80, brains_eaten=50)\n",
    "sally = Zombie(health=120, brains_eaten=3)        "
   ]
  },
  {
   "cell_type": "code",
   "execution_count": 2,
   "metadata": {},
   "outputs": [
    {
     "name": "stdout",
     "output_type": "stream",
     "text": [
      "27\n",
      "Access granted!\n",
      "0\n",
      "5\n",
      "10\n"
     ]
    }
   ],
   "source": [
    "# Declare a Musician class that accepts age and income parameters. \n",
    "\n",
    "# In the instantiation process for an object, assign the two parameters\n",
    "# to two attributes with the same name.\n",
    "\n",
    "# Declare an enter_club instance method. \n",
    "# If the musician is less than 21 years old, the method should \n",
    "# return the string \"Access denied!”. \n",
    "# If the musician is 21 or older, the method should\n",
    "# return the string \"Access granted!\".\n",
    "\n",
    "# Declare a play_show instance method. The method should\n",
    "# increment the musician’s income by 5.\n",
    "\n",
    "# EXAMPLES\n",
    "#\n",
    "# cliff = Musician(age = 27, income = 0)\n",
    "# print(cliff.age)    # 27\n",
    "# print(cliff.enter_club())  # \"Access granted!\"\n",
    "# print(cliff.income) # 0\n",
    "# cliff.play_show()\n",
    "# print(cliff.income) # 5\n",
    "# cliff.play_show()\n",
    "# print(cliff.income) # 10\n",
    "\n",
    "\n",
    "class Musician():\n",
    "    def __init__(self, age, income):\n",
    "        self.age = age\n",
    "        self.income = income\n",
    "        \n",
    "    def enter_club(self):\n",
    "        return \"Access denied!\" if self.age < 21 else \"Access granted!\"\n",
    "    \n",
    "    def play_show(self):\n",
    "        self.income += 5\n",
    "\n",
    "cliff = Musician(age = 27, income = 0)\n",
    "print(cliff.age)    # 27\n",
    "print(cliff.enter_club())  # \"Access granted!\"\n",
    "print(cliff.income) # 0\n",
    "cliff.play_show()\n",
    "print(cliff.income) # 5\n",
    "cliff.play_show()\n",
    "print(cliff.income) # 10    "
   ]
  },
  {
   "cell_type": "code",
   "execution_count": 23,
   "metadata": {},
   "outputs": [
    {
     "name": "stdout",
     "output_type": "stream",
     "text": [
      "Copyright Grant Cardone, 10X Enterprises\n",
      "10\n",
      "5.0\n",
      "2.5\n",
      "1.25\n",
      "0.625\n",
      "0\n",
      "0\n"
     ]
    }
   ],
   "source": [
    "# book.py\n",
    "\n",
    "# Let’s say we want to model a Book as a Python object. \n",
    "# A Book has an author and a publisher, which are characteristics that cannot change. \n",
    "# A Book also has a page_count, which could be altered if you rip some pages from the book.\n",
    "\n",
    "# Declare a Book class that accepts author, publisher, and page_count parameters. \n",
    "# Each of the parameters should be assigned to an attribute. \n",
    "# The author and publisher attributes should be designated as protected (use an underscore). \n",
    "# The page_count attribute should be designated public.\n",
    "\n",
    "# Define a copyright instance method that returns a string with information about the copyright. \n",
    "# It should look the string below, where “Grant Cardone” is the value of the protected\n",
    "# author attribute and “10X Enterprises” is the value of the protected publisher attribute.\n",
    "\n",
    "# => Copyright Grant Cardone, 10X Enterprises\n",
    "\n",
    "# The public page_count attribute can always be manually modified. \n",
    "# However, we can still define an instance method that modifies it. \n",
    "\n",
    "# Declare a rip_in_half instance method. \n",
    "# If the book has more than 1 page, it should halve the page_count. \n",
    "# If the book has 1 page or less, it should set the page_count to 0.\n",
    "\n",
    "\n",
    "class Book():\n",
    "    \n",
    "    def __init__(self, author, publisher, page_count):\n",
    "        self._author = author\n",
    "        self._publisher = publisher\n",
    "        self.page_count = page_count\n",
    "         \n",
    "    def copyright(self):\n",
    "        #return (f\"{self._author} is the value of the protected author attribute and {self._publisher} is the value of the protected publisher attribute.\\nCopyright {self._author}, {self._publisher}\\nThe public page_count attribute can always be manually modified.\\nHowever, we can still define an instance method that modifies it.\")\n",
    "        return f\"Copyright {self._author}, {self._publisher}\"\n",
    "    \n",
    "    def rip_in_half(self):\n",
    "        if self.page_count > 1:\n",
    "            self.page_count = self.page_count/2\n",
    "        else:\n",
    "            self.page_count = 0\n",
    "        return self.page_count\n",
    "        \n",
    "            \n",
    "        \n",
    "        \n",
    "        \n",
    "\n",
    "# See sample execution below\n",
    "\n",
    "book = Book(author = \"Grant Cardone\", publisher = \"10X Enterprises\", page_count = 10)\n",
    "\n",
    "print(book.copyright()) # Copyright Grant Cardone, 10X Enterprises\n",
    "\n",
    "print(book.page_count) # 10\n",
    "book.rip_in_half()\n",
    "print(book.page_count) # 5.0\n",
    "book.rip_in_half()\n",
    "print(book.page_count) # 2.5\n",
    "book.rip_in_half()\n",
    "print(book.page_count) # 1.25\n",
    "book.rip_in_half()\n",
    "print(book.page_count) # 0.625\n",
    "book.rip_in_half()\n",
    "print(book.page_count) # 0\n",
    "book.rip_in_half()\n",
    "print(book.page_count) # 0\n",
    "\n"
   ]
  },
  {
   "cell_type": "code",
   "execution_count": 4,
   "metadata": {},
   "outputs": [
    {
     "name": "stdout",
     "output_type": "stream",
     "text": [
      "0.25\n",
      "0.5\n",
      "0.5\n"
     ]
    }
   ],
   "source": [
    "# Declare a PizzaPie class that accepts a total_slices parameter. \n",
    "# In the instantiation process for an object, assign the parameter to an \n",
    "# attribute with the same name. \n",
    "\n",
    "# A PizzaPie object should also be initialized with a _slices_eaten \n",
    "# protected attribute set to 0.\n",
    "\n",
    "# Define a slices_eaten property. \n",
    "# The getter method should retrieve the value of the _slices_eaten attribute. \n",
    "# The setter method should set a new value for the _slices_eaten attribute\n",
    "# but only if the argument is less than total_slices.\n",
    "\n",
    "# Define a percentage property that calculates how much of the pie has been eaten \n",
    "# (the number of slices eaten divided by the total slices available). \n",
    "# The percentage property should be read-only.\n",
    "\n",
    "\n",
    "class PizzaPie():\n",
    "    def __init__(self, total_slices):\n",
    "        self.total_slices = total_slices\n",
    "        self._slices_eaten = 0\n",
    "        \n",
    "        \n",
    "    @property\n",
    "    def slices_eaten(self):\n",
    "        return self._slices_eaten\n",
    "    \n",
    "    @slices_eaten.setter\n",
    "    def slices_eaten(self, slices_eaten):\n",
    "        if slices_eaten <= self.total_slices:\n",
    "            self._slices_eaten = slices_eaten\n",
    "    @property\n",
    "    def percentage(self):\n",
    "        return self._slices_eaten / self.total_slices\n",
    "        \n",
    "    \n",
    "        \n",
    "        \n",
    "        \n",
    "        \n",
    "        \n",
    "        \n",
    "\n",
    "# See sample execution below\n",
    "#\n",
    "cheese = PizzaPie(8)\n",
    "cheese.slices_eaten = 2\n",
    "print(cheese.percentage) # 0.25\n",
    "\n",
    "cheese.slices_eaten = 4\n",
    "print(cheese.percentage) # 0.5\n",
    "\n",
    "cheese.slices_eaten = 10 # _slices_eaten should not change because there's only 8 slices in pie\n",
    "print(cheese.percentage) # 0.5\n",
    "\n",
    "# ERROR - AttributeError: can't set attribute\n",
    "# cheese.percentage = 0.50"
   ]
  },
  {
   "cell_type": "code",
   "execution_count": 15,
   "metadata": {},
   "outputs": [],
   "source": [
    "# Define a Chocolate class that accepts and assigns a cacao_content attribute.\n",
    "\n",
    "# Define a \"sweet\" class method that returns a \n",
    "# Chocolate object with a cacao_content value of 30.\n",
    "\n",
    "# Define a \"semisweet\" class method that returns a \n",
    "# Chocolate object with a cacao_content value of 50.\n",
    "\n",
    "# Define a \"bittersweet\" class method that returns a \n",
    "# Chocolate object with a cacao_content value of 70.\n",
    "\n",
    "# Define a \"bitter\" class method that returns a \n",
    "# Chocolate object with a cacao_content value of 99.\n",
    "\n",
    "class Chocolate():\n",
    "    def __init__(self, cacao_content):\n",
    "        self.cacao_content = cacao_content\n",
    "        \n",
    "    @classmethod    \n",
    "    def sweet(cls):\n",
    "        return cls(cacao_content=30)\n",
    "    \n",
    "    @classmethod\n",
    "    def semisweet(cls):\n",
    "        return cls(cacao_content=50)\n",
    "    \n",
    "    @classmethod\n",
    "    def bittersweet(cls):\n",
    "        return cls(cacao_content=70)\n",
    "    \n",
    "    @classmethod\n",
    "    def bitter(cls):\n",
    "        return cls(cacao_content=99)        "
   ]
  },
  {
   "cell_type": "code",
   "execution_count": 28,
   "metadata": {},
   "outputs": [
    {
     "name": "stdout",
     "output_type": "stream",
     "text": [
      "You paid 24.99 to Greyhound to go to Boston.\n",
      "False\n",
      "True\n",
      "False\n"
     ]
    }
   ],
   "source": [
    "# Part A: Instantiation\n",
    "\n",
    "# Define a BusTrip class that is initialized with a destination, \n",
    "# a bus company, and a price for the trip. \n",
    "# Preserve the arguments as attributes on the object.\n",
    "# The choice of whether to use protected attributes is up to you.\n",
    "\n",
    "# Part B: String Representation\n",
    "\n",
    "# The string representation of a BusTrip object must be a string in the form of:\n",
    "#    \"You paid 24.99 to Greyhound to go to Boston.\"\"\n",
    "# In this example, “Boston” is the destination, “Greyhound” is the bus company, and 24.99 is the price.\n",
    "# These are all fed in as arguments when a BusTrip object is initialized.\n",
    "\n",
    "# Part C: Equality\n",
    "\n",
    "# Implement equality logic between two different BusTrip objects.\n",
    "# Two BusTrips object are considered equal if:\n",
    "#   -- they have the same destination\n",
    "#   -- their price is within 3 dollars of each other\n",
    "# HINT: Use Python’s abs function to calculate the absolute value of a number.\n",
    "\n",
    "\n",
    "class BusTrip():\n",
    "    def __init__(self, destination, company, price):\n",
    "        self.destination = destination\n",
    "        self.company = company\n",
    "        self.price = price\n",
    "        \n",
    "    def __str__(self):\n",
    "        return f\"You paid {self.price} to {self.company} to go to {self.destination}.\"\n",
    "    \n",
    "#     @property\n",
    "#     def bus_trip(self, other_destination):\n",
    "#         if self.\n",
    "\n",
    "    def __eq__(self, other_trip):\n",
    "#         equal_destination = (self.destination == other_trip.destination)\n",
    "#         trivial_price = abs(self.price - other_trip.price) <= 3\n",
    "#         return equal_destination and trivial_price\n",
    "        return (self.destination == other_trip.destination) and abs(self.price - other_trip.price) <= 3\n",
    "        \n",
    "# Sample Execution\n",
    "boston1 = BusTrip(destination = \"Boston\", company = \"Greyhound\", price = 24.99)\n",
    "boston2 = BusTrip(destination = \"Boston\", company = \"Megabus\", price = 22.99)\n",
    "boston3 = BusTrip(destination = \"Boston\", company = \"Megabus\", price = 49.99)\n",
    "philly  = BusTrip(destination = \"Philadelphia\", company = \"Peter Pan\", price = 12.99)\n",
    "\n",
    "print(boston1)            # You paid 24.99 to Greyhound to go to Boston.\n",
    "print(boston1 == philly)  # False - different destinations\n",
    "print(boston1 == boston2) # True - same destination and insignificant price difference\n",
    "print(boston1 == boston3) # False - large price difference\n",
    "  \n",
    "        \n",
    "        "
   ]
  },
  {
   "cell_type": "code",
   "execution_count": 30,
   "metadata": {},
   "outputs": [
    {
     "name": "stdout",
     "output_type": "stream",
     "text": [
      "Blueprint for a student at an institution of higher learning\n",
      "Sleep through class\n",
      "Go to the cafeteria\n",
      "Hit the books hard\n"
     ]
    }
   ],
   "source": [
    "# Define a CollegeStudent class that accepts and assigns a university attribute.\n",
    "\n",
    "# Add a docstring for the class equal to \"Blueprint for a student at an institution of higher learning\"\n",
    "\n",
    "# Define three instance methods — sleep, eat, and party. \n",
    "# The actual content of the methods is irrelevant (feel free to use the pass keyword)\n",
    "\n",
    "# The sleep method should have the docstring \"Sleep through class\".\n",
    "# The eat method should have the docstring \"Go to the cafeteria\".\n",
    "# The party method should have the docstring \"Hit the books hard\".\n",
    "\n",
    "# To simplify the test evaluation, submit ALL docstrings without any line breaks.\n",
    "# Example: \"\"\"Sample docstring\"\"\"\n",
    "# You're welcome to use single quotes, double quotes, or triple quotes.\n",
    "\n",
    "\n",
    "\n",
    "class CollegeStudent():\n",
    "    \"\"\"Blueprint for a student at an institution of higher learning\"\"\"\n",
    "    def __init__(self, university):\n",
    "        self.university = university\n",
    "        \n",
    "    def sleep(self):\n",
    "        \"\"\"Sleep through class\"\"\"\n",
    "        pass\n",
    "        \n",
    "    def eat(self):\n",
    "        \"\"\"Go to the cafeteria\"\"\"\n",
    "        pass\n",
    "    \n",
    "    def party(self):\n",
    "        \"\"\"Hit the books hard\"\"\"\n",
    "        pass\n",
    "        \n",
    "    \n",
    "\n",
    "# See sample execution below\n",
    "\n",
    "print(CollegeStudent.__doc__) # Blueprint for a student at an institution of higher learning\n",
    "\n",
    "marty = CollegeStudent(\"Python Community College\") \n",
    "print(marty.sleep.__doc__) # Sleep through class\n",
    "print(marty.eat.__doc__)   # Go to the cafeteria\n",
    "print(marty.party.__doc__) # Hit the books hard"
   ]
  },
  {
   "cell_type": "code",
   "execution_count": 31,
   "metadata": {},
   "outputs": [],
   "source": [
    "# Use the namedtuple function to create a GymExercise class whose instances\n",
    "# will have three attributes: name, weight, and reps.\n",
    "\n",
    "# Assign a squat variable to a GymExercise tuple object with \n",
    "# a name of “squat”, a weight of 265, and a rep count of 3.\n",
    "\n",
    "# Assign a bench variable to a GymExercise tuple object with \n",
    "# a name of “benchpress”, a weight of 185, and a rep count of 5.\n",
    "\n",
    "# Assign a deadlift variable to a GymExercise tuple object with\n",
    "# a name of “deadlift”, a weight of 225, and a rep count of 6.\n",
    "\n",
    "# Assign a press variable to a GymExercise tuple object with \n",
    "# a name of “press”, a weight of 120, and a rep count of 8.\n",
    "\n",
    "import collections\n",
    "\n",
    "GymExercise = collections.namedtuple(\"GymExercise\", [\"name\", \"weight\", \"reps\"])\n",
    "squat = GymExercise(\"squat\", 265, 3)\n",
    "bench = GymExercise(\"benchpress\", 185, 5)\n",
    "deadlift = GymExercise(\"deadlift\", 225, 6)\n",
    "press = GymExercise(\"press\", 120, 8)"
   ]
  },
  {
   "cell_type": "code",
   "execution_count": 6,
   "metadata": {},
   "outputs": [
    {
     "name": "stdout",
     "output_type": "stream",
     "text": [
      "2019\n",
      "Porsche\n",
      "Toyota\n"
     ]
    }
   ],
   "source": [
    "# Define a Car class that accepts a maker (string), model (string),\n",
    "# and year (number) parameters and assigns them to respective\n",
    "# attributes\n",
    "\n",
    "# Define a Dealership class. Each Dealership object should instantiate\n",
    "# with a \"cars\" attribute set to an empty list.\n",
    "\n",
    "# A Dealership object should have a accept_delivery instance method\n",
    "# that accepts a Car object and adds it to the Dealership's internal\n",
    "# \"cars\" list\n",
    "\n",
    "# Indexing into a Dealership with a number should access a specific\n",
    "# Car object in the Dealership.\n",
    "\n",
    "# An index position in a Dealership should also be overwriteable\n",
    "# with a new Car object (see examples below)\n",
    "\n",
    "\n",
    "class Car():\n",
    "    def __init__(self, maker, model, year):\n",
    "        self.maker = maker\n",
    "        self.model = model\n",
    "        self.year = year\n",
    "               \n",
    "             \n",
    "class Dealership():\n",
    "    def __init__(self):\n",
    "        self.cars = []\n",
    "        \n",
    "    def accept_delivery(self, car):\n",
    "        self.cars.append(car)\n",
    "        \n",
    "    def __getitem__(self, index):\n",
    "        return self.cars[index]\n",
    "    \n",
    "    def __setitem__(self, index, value):\n",
    "        self.cars[index] = value\n",
    "    \n",
    "        \n",
    "        \n",
    "\n",
    "f150 = Car(maker = \"Ford\", model = \"F-150\", year = 2019)\n",
    "camry = Car(maker = \"Toyota\", model = \"Camry\", year = 2020)\n",
    "porsche = Car (maker = \"Porsche\", model = \"911 Carrera\", year = 2021)\n",
    "\n",
    "dealership = Dealership()\n",
    "\n",
    "dealership.accept_delivery(f150)\n",
    "dealership.accept_delivery(camry)\n",
    "\n",
    "print(dealership[0].year) # 2019 -- the F150's year\n",
    "\n",
    "dealership[0] = porsche\n",
    "\n",
    "for car in dealership:\n",
    "  print(car.maker) # Porsche, Toyota"
   ]
  },
  {
   "cell_type": "code",
   "execution_count": 12,
   "metadata": {},
   "outputs": [
    {
     "name": "stdout",
     "output_type": "stream",
     "text": [
      "80\n",
      "60\n",
      "False\n",
      "True\n",
      "A5\n",
      "B2\n"
     ]
    }
   ],
   "source": [
    "# Declare a Newspaper class. \n",
    "\n",
    "# Each Newspaper will have a 'pages' attribute set to an integer \n",
    "# and a 'sections' attribute set to a dictionary.\n",
    "# The keys in 'sections' will be strings representing a section (i.e. \"Politics\") \n",
    "# and the values will be the starting page for that section (i.e. \"A5\").\n",
    "\n",
    "# The length of a newspaper should be equal to the number of pages it holds.\n",
    "\n",
    "# Indexing the newspaper by a section should return the starting pasge for that section.\n",
    "\n",
    "# Make it so two newspapers are considered equal if they have the \n",
    "# same number of pages AND the same number of sections\n",
    "\n",
    "class Newspaper():\n",
    "    def __init__(self, pages, sections):\n",
    "        self.pages = pages\n",
    "        self.sections = sections\n",
    "        \n",
    "    def __len__(self):\n",
    "        return self.pages\n",
    "    \n",
    "    def __getitem__(self, index):\n",
    "        return self.sections[index]\n",
    "    \n",
    "    def __eq__(self, other):\n",
    "        return self.pages == other.pages and len(self.sections) == len(other.sections)\n",
    "    \n",
    "        \n",
    "\n",
    "# EXAMPLE:\n",
    "monday_sections = {\n",
    "  \"Politics\": \"A5\",\n",
    "  \"Sports\": \"B2\",\n",
    "  \"Entertainment\": \"C3\"\n",
    "}\n",
    "\n",
    "tuesday_sections = {\n",
    "  \"Travel\": \"A5\",\n",
    "  \"Cooking\": \"B2\",\n",
    "}\n",
    "\n",
    "wednesday_sections = {\n",
    "  \"Classifieds\": \"A5\",\n",
    "  \"Weddings\": \"B2\",\n",
    "  \"Weather\": \"C3\"\n",
    "}\n",
    "\n",
    "np1 = Newspaper(pages = 80, sections = monday_sections)\n",
    "np2 = Newspaper(pages = 60, sections = tuesday_sections)\n",
    "np3 = Newspaper(pages = 80, sections = wednesday_sections)\n",
    "\n",
    "print(len(np1))        # 80\n",
    "print(len(np2))        # 60\n",
    "print(np1 == np2)      # False -- np1 has 3 sections while np2 has 2 sections\n",
    "print(np1 == np3)      # True -- both have 80 pages and 3 sections\n",
    "print(np1[\"Politics\"]) # \"A5\"\n",
    "print(np2[\"Cooking\"])  # \"B2\""
   ]
  },
  {
   "cell_type": "code",
   "execution_count": 3,
   "metadata": {},
   "outputs": [
    {
     "name": "stdout",
     "output_type": "stream",
     "text": [
      "I'm defined in the superclass!\n"
     ]
    }
   ],
   "source": [
    "# Declare a HardwareStore subclass that inherits from the Store superclass.\n",
    "# Do not define any attributes and methods on the subclass. \n",
    "# Use the pass keyword to avoid a class body in HardwareStore.\n",
    "# Instantiate a new instance of the HardwareStore class and assign it to a home_depot variable.\n",
    "# Access the value of the \"owner\" attribute on your HardwareStore instance.\n",
    "# Invoke the exclaim instance method on your HardwareStore instance.\n",
    "\n",
    "class Store():\n",
    "    def __init__(self):\n",
    "        self.owner = \"Boris\"\n",
    "  \n",
    "    def exclaim(self):\n",
    "        return \"I'm defined in the superclass!\"\n",
    "    \n",
    "class HardwareStore(Store):\n",
    "        pass\n",
    "\n",
    "home_depot = HardwareStore()\n",
    "print(home_depot.exclaim())"
   ]
  },
  {
   "cell_type": "code",
   "execution_count": null,
   "metadata": {},
   "outputs": [],
   "source": []
  }
 ],
 "metadata": {
  "kernelspec": {
   "display_name": "Python 3",
   "language": "python",
   "name": "python3"
  },
  "language_info": {
   "codemirror_mode": {
    "name": "ipython",
    "version": 3
   },
   "file_extension": ".py",
   "mimetype": "text/x-python",
   "name": "python",
   "nbconvert_exporter": "python",
   "pygments_lexer": "ipython3",
   "version": "3.7.3"
  }
 },
 "nbformat": 4,
 "nbformat_minor": 2
}
