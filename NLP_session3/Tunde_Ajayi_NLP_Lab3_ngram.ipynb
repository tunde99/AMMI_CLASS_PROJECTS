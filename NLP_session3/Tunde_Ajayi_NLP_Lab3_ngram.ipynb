{
 "cells": [
  {
   "cell_type": "code",
   "execution_count": 1,
   "metadata": {},
   "outputs": [],
   "source": [
    "import io, sys, math, re\n",
    "from collections import defaultdict\n",
    "import numpy as np"
   ]
  },
  {
   "cell_type": "code",
   "execution_count": 2,
   "metadata": {},
   "outputs": [],
   "source": [
    "# dataloader\n",
    "\n",
    "def load_data(filename):\n",
    "    fin = io.open(filename, 'r', encoding='utf-8')\n",
    "    data = []\n",
    "    vocab = defaultdict(lambda:0)\n",
    "    for line in fin:\n",
    "        sentence = line.split()\n",
    "        data.append(sentence)\n",
    "        for word in sentence:\n",
    "            vocab[word] += 1\n",
    "    return data, vocab"
   ]
  },
  {
   "cell_type": "code",
   "execution_count": 3,
   "metadata": {},
   "outputs": [],
   "source": [
    "mincount = 1\n",
    "def remove_rare_words(data, vocab, mincount):\n",
    "    ## FILL CODE\n",
    "    # replace words in data that are not in the vocab \n",
    "    # or have a count that is below mincount\n",
    "    data_with_unk = []\n",
    "    for lst in data:\n",
    "        sentence = []\n",
    "        for word in lst:\n",
    "            if (word not in vocab) or (vocab[word] < mincount):\n",
    "                word = '<unk>'\n",
    "            sentence.append(word)\n",
    "        data_with_unk.append(sentence)\n",
    "  \n",
    "    \n",
    "    return data_with_unk"
   ]
  },
  {
   "cell_type": "code",
   "execution_count": 4,
   "metadata": {},
   "outputs": [
    {
     "name": "stdout",
     "output_type": "stream",
     "text": [
      "load training set\n",
      "load validation set\n"
     ]
    }
   ],
   "source": [
    "# LOAD DATA\n",
    "\n",
    "print(\"load training set\")\n",
    "train_data, vocab = load_data(\"train.txt\")\n",
    "\n",
    "## FILL CODE\n",
    "# Same as bigram.py\n",
    "train_data = remove_rare_words(train_data, vocab, mincount)\n",
    "\n",
    "print(\"load validation set\")\n",
    "valid_data, _ = load_data(\"valid.txt\")\n",
    "## FILL CODE\n",
    "# Same as bigram.py\n",
    "valid_data = remove_rare_words(valid_data, vocab, mincount)"
   ]
  },
  {
   "cell_type": "code",
   "execution_count": 5,
   "metadata": {},
   "outputs": [],
   "source": [
    "def build_ngram(data, n):\n",
    "    total_number_words = 0\n",
    "    counts = defaultdict(lambda: defaultdict(lambda: 0.0))\n",
    "\n",
    "    for sentence in data:\n",
    "        sentence = tuple(sentence)\n",
    "        ## FILL CODE\n",
    "        # dict can be indexed by tuples\n",
    "        # store in the same dict all the ngrams\n",
    "        # by using the context as a key and the word as a value\n",
    "        \n",
    "        total_number_words += len(sentence)\n",
    "        for ele1 in range(1, n+1):\n",
    "            for ele2 in range(len(sentence)- ele1 + 1):\n",
    "                counts[sentence[ele2:(ele1 + ele2-1)]][sentence[ele1 + ele2 - 1]] += 1\n",
    "\n",
    "    prob  = defaultdict(lambda: defaultdict(lambda: 0.0))\n",
    "    ## FILL CODE\n",
    "    # Build the probabilities from the counts\n",
    "    # Be careful with how you normalize!\n",
    "    for c in counts.keys():\n",
    "        for t in counts[c].keys():\n",
    "            prob[c][t] = counts[c][t]/(sum(counts[c].values()))\n",
    "\n",
    "    return prob"
   ]
  },
  {
   "cell_type": "code",
   "execution_count": 6,
   "metadata": {},
   "outputs": [
    {
     "name": "stdout",
     "output_type": "stream",
     "text": [
      "build ngram model with n =  4\n"
     ]
    }
   ],
   "source": [
    "# RUN TO BUILD NGRAM MODEL\n",
    "\n",
    "n = 4\n",
    "print(\"build ngram model with n = \", n)\n",
    "model = build_ngram(train_data, n)"
   ]
  },
  {
   "cell_type": "code",
   "execution_count": 7,
   "metadata": {},
   "outputs": [],
   "source": [
    "#model[('<s>', )]['i']"
   ]
  },
  {
   "cell_type": "code",
   "execution_count": 8,
   "metadata": {},
   "outputs": [],
   "source": [
    "def get_prob(model, context, w):\n",
    "    ## FILL CODE\n",
    "    # code a recursive function over \n",
    "    # smaller and smaller context\n",
    "    # to compute the backoff model\n",
    "    # Bonus: You can also code an interpolation model this way\n",
    "    if model[tuple(context)][w] != 0:\n",
    "        return model[tuple(context)][w]\n",
    "    else:\n",
    "        return 0.4 * get_prob(model, context[1:], w) \n",
    "\n",
    "def perplexity(model, data, n):\n",
    "    ## FILL CODE\n",
    "    # Same as bigram.py\n",
    "    perp = count = 0\n",
    "    \n",
    "   \n",
    "    for sentence in data:\n",
    "        context = sentence[:n-1]\n",
    "        for word in sentence[n-1:]:\n",
    "            perp += np.log(get_prob(model, context, word))\n",
    "            if context:\n",
    "                context.pop(0)\n",
    "                context.append(word)\n",
    "            count += len(sentence)\n",
    "        return - perp/count"
   ]
  },
  {
   "cell_type": "code",
   "execution_count": 9,
   "metadata": {},
   "outputs": [
    {
     "name": "stdout",
     "output_type": "stream",
     "text": [
      "The perplexity is 0.5030118988940416\n"
     ]
    }
   ],
   "source": [
    "# COMPUTE PERPLEXITY ON VALIDATION SET\n",
    "\n",
    "print(\"The perplexity is\", perplexity(model, valid_data, n))"
   ]
  },
  {
   "cell_type": "code",
   "execution_count": 10,
   "metadata": {},
   "outputs": [],
   "source": [
    "def get_proba_distrib(model, context):\n",
    "    ## FILL CODE\n",
    "    # code a recursive function over context\n",
    "    # to find the longest available ngram \n",
    "    \n",
    "    if sum(model[context].values()) != 0:\n",
    "        return context\n",
    "    else:\n",
    "        return get_proba_distrib(model, context[1:])\n",
    "    \n",
    "\n",
    "def generate(model):\n",
    "    ## FILL CODE\n",
    "    # generate a sentence. A sentence starts with a <s> and ends with a </s>\n",
    "    # Possiblly a use function is:\n",
    "    #   np.random.choice(x, 1, p = y)\n",
    "    # where x is a list of things to sample from\n",
    "    # and y is a list of probability (of the same length as x)\n",
    "    \n",
    "    sentence = [\"<s>\"]\n",
    "    \n",
    "    while True :\n",
    "        a = list(model[(sentence[-1], )].keys())\n",
    "        prob = list(model[(sentence[-1], )].values())\n",
    "        current_pred = np.random.choice(a, 1, \\\n",
    "                                     p = prob)\n",
    "        sentence.append(current_pred[0])\n",
    "        \n",
    "        if current_pred[0] == '</s>':\n",
    "            break\n",
    "    \n",
    "    return sentence"
   ]
  },
  {
   "cell_type": "code",
   "execution_count": 11,
   "metadata": {},
   "outputs": [
    {
     "name": "stdout",
     "output_type": "stream",
     "text": [
      "Generated sentence:  ['<s>', 'the', 'stairs.', '</s>']\n"
     ]
    }
   ],
   "source": [
    "# GENERATE A SENTENCE FROM THE MODEL\n",
    "\n",
    "print(\"Generated sentence: \",generate(model))"
   ]
  }
 ],
 "metadata": {
  "kernelspec": {
   "display_name": "Python 3",
   "language": "python",
   "name": "python3"
  },
  "language_info": {
   "codemirror_mode": {
    "name": "ipython",
    "version": 3
   },
   "file_extension": ".py",
   "mimetype": "text/x-python",
   "name": "python",
   "nbconvert_exporter": "python",
   "pygments_lexer": "ipython3",
   "version": "3.7.3"
  }
 },
 "nbformat": 4,
 "nbformat_minor": 2
}
